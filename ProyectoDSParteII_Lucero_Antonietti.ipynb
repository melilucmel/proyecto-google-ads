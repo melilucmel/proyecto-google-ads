{
  "nbformat": 4,
  "nbformat_minor": 0,
  "metadata": {
    "colab": {
      "provenance": [],
      "authorship_tag": "ABX9TyP8fNBM4b8N2jxy3j11Dnie",
      "include_colab_link": true
    },
    "kernelspec": {
      "name": "python3",
      "display_name": "Python 3"
    },
    "language_info": {
      "name": "python"
    }
  },
  "cells": [
    {
      "cell_type": "markdown",
      "metadata": {
        "id": "view-in-github",
        "colab_type": "text"
      },
      "source": [
        "<a href=\"https://colab.research.google.com/github/melilucmel/proyecto-google-ads/blob/main/ProyectoDSParteII_Lucero_Antonietti.ipynb\" target=\"_parent\"><img src=\"https://colab.research.google.com/assets/colab-badge.svg\" alt=\"Open In Colab\"/></a>"
      ]
    },
    {
      "cell_type": "markdown",
      "source": [
        "# Proyecto Final – Parte II"
      ],
      "metadata": {
        "id": "CJJIbaqdwaD8"
      }
    },
    {
      "cell_type": "markdown",
      "source": [
        "\n",
        "El proceso siguió las etapas vistas en el curso:\n",
        "\n",
        "// PRIMERA PARTE DEL PROYECTO (primer entrega) //\n",
        "1. **Limpieza y preparación de datos**, donde se corrigieron fechas, valores monetarios, conversiones y valores faltantes.\n",
        "\n",
        "2. **Exploración inicial (EDA)**, en la que se detectó baja correlación directa entre las variables originales y la variable objetivo.\n",
        "\n",
        "// SEGUNDA PARTE DEL PROYECTO (segunda y presente entrega) //\n",
        "\n",
        "Importaremos el dataset limpio (resultado de la primera parte) para continuar.\n",
        "\n",
        "En esta etapa nos enfocaremos en la **aplicación de modelos de Machine Learning para predecir el monto de ventas (Sale_Amount)** a partir de los datos de campañas de Google Ads.\n",
        "\n",
        "Para ello, seguiremos las siguientes etapas, vistas en el curso:\n",
        "\n",
        "3. **Selección y creación de features**, incorporando métricas de marketing clave como CTR (Click Through Rate), CPC (Costo por Click)\n",
        "xxxxxxxxxxxxxxxx\n",
        "y ROI (Retorno de Inversión).\n",
        "\n",
        "4. **Entrenamiento de modelos**: se probaron un modelo base (Dummy), una Regresión Lineal y un Random Forest.\n",
        "- **Dummy Regressor** como punto de referencia.\n",
        "- **Regresión Lineal**, como modelo simple y ampliamente utilizado.\n",
        "- **Random Forest**, como modelo no lineal capaz de capturar interacciones más complejas.\n",
        "\n",
        "5. **Evaluación de métricas** (R², RMSE y MAE) para comparar el desempeño, así como en visualizaciones que permiten comparar los resultados de los modelos.\n",
        "\n",
        "\n",
        "El **objetivo** en esta segunda parte del proyecto será **evaluar si los algoritmos de Machine Learning pueden aplicarse en un caso práctico de marketing digital para predecir resultados de ventas** con precisión."
      ],
      "metadata": {
        "id": "azGg2aaA7DqJ"
      }
    },
    {
      "cell_type": "markdown",
      "source": [
        "## 0) Hipótesis"
      ],
      "metadata": {
        "id": "ByP86nAe7JFR"
      }
    },
    {
      "cell_type": "markdown",
      "source": [
        "**Hipótesis nula (H0):**\n",
        "Las variables de las campañas de Google Ads (Clicks, Impressions, Cost, Conversions, Leads, etc.) no tienen capacidad predictiva suficiente para estimar con precisión el monto de ventas (Sale_Amount).\n",
        "\n",
        "**Hipótesis alternativa (H1):**\n",
        "Las variables de las campañas de Google Ads (Clicks, Impressions, Cost, Conversions, Leads, etc.) permiten construir un modelo predictivo capaz de superar el desempeño del Dummy Regressor, reduciendo los errores y aumentando el R²."
      ],
      "metadata": {
        "id": "PyfDlfH17M1d"
      }
    },
    {
      "cell_type": "markdown",
      "source": [
        "## 1) Carga y exploración el dataset"
      ],
      "metadata": {
        "id": "nSYcbJfid4h0"
      }
    },
    {
      "cell_type": "code",
      "execution_count": 1,
      "metadata": {
        "id": "AdeRXNKcmDYv",
        "colab": {
          "base_uri": "https://localhost:8080/"
        },
        "outputId": "047741ae-c8d4-4feb-d6d3-39b5300adc7d"
      },
      "outputs": [
        {
          "output_type": "stream",
          "name": "stdout",
          "text": [
            "//Info general//\n",
            "\n",
            "<class 'pandas.core.frame.DataFrame'>\n",
            "RangeIndex: 2075 entries, 0 to 2074\n",
            "Data columns (total 15 columns):\n",
            " #   Column                      Non-Null Count  Dtype  \n",
            "---  ------                      --------------  -----  \n",
            " 0   Ad_ID                       2075 non-null   object \n",
            " 1   Campaign_Name               2075 non-null   object \n",
            " 2   Clicks                      2075 non-null   int64  \n",
            " 3   Impressions                 2075 non-null   int64  \n",
            " 4   Impressions per conversion  2075 non-null   float64\n",
            " 5   Cost                        2075 non-null   float64\n",
            " 6   Leads                       2075 non-null   int64  \n",
            " 7   Conversions                 2075 non-null   int64  \n",
            " 8   Conversion Rate             2075 non-null   float64\n",
            " 9   Cost per conversion         2075 non-null   float64\n",
            " 10  Sale_Amount                 2075 non-null   float64\n",
            " 11  Ad_Date                     2075 non-null   object \n",
            " 12  Location                    2075 non-null   object \n",
            " 13  Device                      2075 non-null   object \n",
            " 14  Keyword                     2075 non-null   object \n",
            "dtypes: float64(5), int64(4), object(6)\n",
            "memory usage: 243.3+ KB\n",
            "None\n",
            "\n",
            "//Primeras filas//\n",
            "\n",
            "   Ad_ID          Campaign_Name  Clicks  Impressions  \\\n",
            "0  A1000  data analytics course     104         4498   \n",
            "1  A1001  data analytics course     173         5107   \n",
            "2  A1002    data anlytics corse      90         4544   \n",
            "3  A1003  data analytcis course     142         3185   \n",
            "4  A1004   data analytics corse     156         3361   \n",
            "\n",
            "   Impressions per conversion    Cost  Leads  Conversions  Conversion Rate  \\\n",
            "0                  642.571429  231.88     14            7            0.058   \n",
            "1                  638.375000  216.84     10            8            0.046   \n",
            "2                  504.888889  203.66     26            9            0.047   \n",
            "3                  530.833333  237.66     17            6            0.047   \n",
            "4                  420.125000  195.90     30            8            0.047   \n",
            "\n",
            "   Cost per conversion  Sale_Amount     Ad_Date   Location   Device  \\\n",
            "0            33.125714       1892.0  2024-11-16  hyderabad  desktop   \n",
            "1            27.105000       1679.0  2024-11-20  hyderabad   mobile   \n",
            "2            22.628889       1624.0  2024-11-16  hyderabad  desktop   \n",
            "3            39.610000       1225.0  2024-11-26  hyderabad   tablet   \n",
            "4            24.487500       1091.0  2024-11-22  hyderabad  desktop   \n",
            "\n",
            "                  Keyword  \n",
            "0    learn data analytics  \n",
            "1   data analytics course  \n",
            "2   data analitics online  \n",
            "3  data anaytics training  \n",
            "4    online data analytic  \n",
            "\n",
            "//Valores nulos por columna//\n",
            "\n",
            "Ad_ID                         0\n",
            "Campaign_Name                 0\n",
            "Clicks                        0\n",
            "Impressions                   0\n",
            "Impressions per conversion    0\n",
            "Cost                          0\n",
            "Leads                         0\n",
            "Conversions                   0\n",
            "Conversion Rate               0\n",
            "Cost per conversion           0\n",
            "Sale_Amount                   0\n",
            "Ad_Date                       0\n",
            "Location                      0\n",
            "Device                        0\n",
            "Keyword                       0\n",
            "dtype: int64\n"
          ]
        }
      ],
      "source": [
        "import pandas as pd\n",
        "\n",
        "# Cargar el dataset limpio (ya preparado en Parte ipos de datos y valores nulos\n",
        "df = df_googleads_clean = pd.read_csv(\"https://raw.githubusercontent.com/melilucmel/proyecto-google-ads/refs/heads/main/DataSetII_GoogleAds_Clean.csv\")\n",
        "\n",
        "print(\"//Info general//\\n\")\n",
        "print(df.info())\n",
        "\n",
        "print(\"\\n//Primeras filas//\\n\")\n",
        "print(df.head())\n",
        "\n",
        "print(\"\\n//Valores nulos por columna//\\n\")\n",
        "print(df.isnull().sum())"
      ]
    },
    {
      "cell_type": "markdown",
      "source": [
        "## 2) Definición de target y features (X e y)"
      ],
      "metadata": {
        "id": "zSeL5GXjeFIM"
      }
    },
    {
      "cell_type": "code",
      "source": [
        "# Defino Target\n",
        "TARGET = \"Sale_Amount\"\n",
        "\n",
        "# Seleccionamos columnas relevantes (ajustaremos después con Feature Selection)\n",
        "features_iniciales = [\n",
        "    \"Cost\", \"Clicks\", \"Impressions\", \"Leads\", \"Conversions\", \"Device\"\n",
        "]\n",
        "\n",
        "X = df[features_iniciales]\n",
        "y = df[TARGET]\n",
        "\n",
        "print(\"Dimensiones de X:\", X.shape)\n",
        "print(\"Dimensiones de y:\", y.shape)"
      ],
      "metadata": {
        "colab": {
          "base_uri": "https://localhost:8080/"
        },
        "id": "clIB6bphclpI",
        "outputId": "93553939-9dbc-4950-b28a-a78dd78752ff"
      },
      "execution_count": 2,
      "outputs": [
        {
          "output_type": "stream",
          "name": "stdout",
          "text": [
            "Dimensiones de X: (2075, 6)\n",
            "Dimensiones de y: (2075,)\n"
          ]
        }
      ]
    },
    {
      "cell_type": "markdown",
      "source": [
        "## 3) Feature Selection"
      ],
      "metadata": {
        "id": "eukGSO__eQqr"
      }
    },
    {
      "cell_type": "markdown",
      "source": [
        "En esta sección aplicamos dos enfoques simples y vistos en clase para priorizar variables:\n",
        "\n",
        "3.a) **Correlación** con el target (`Sale_Amount`) para variables numéricas.\n",
        "\n",
        "3.b) **Importancia de variables con RandomForest** (incluye categóricas mediante One-Hot)."
      ],
      "metadata": {
        "id": "ZI7-uE-ynWb-"
      }
    },
    {
      "cell_type": "markdown",
      "source": [
        "### 3.a) Correlación con el target"
      ],
      "metadata": {
        "id": "naHzUXdoelSy"
      }
    },
    {
      "cell_type": "code",
      "source": [
        "import seaborn as sns\n",
        "import matplotlib.pyplot as plt\n",
        "\n",
        "# Seleccionamos solo columnas numéricas\n",
        "num_cols = df.select_dtypes(include=[\"float64\", \"int64\", \"Int64\"]).columns.tolist()\n",
        "\n",
        "# Matriz de correlación\n",
        "corr = df[num_cols].corr()\n",
        "\n",
        "# Correlación de cada variable con el target Sale_Amount\n",
        "corr_target = corr[\"Sale_Amount\"].sort_values(ascending=False)\n",
        "\n",
        "print(\"//Correlación con Sale_Amount//\")\n",
        "print(corr_target)\n",
        "\n",
        "# Gráfico de calor (top variables)\n",
        "plt.figure(figsize=(8,6))\n",
        "sns.heatmap(corr_target.to_frame(), annot=True, cmap=\"coolwarm\", cbar=False)\n",
        "plt.title(\"Correlación de variables numéricas con Sale_Amount\")\n",
        "plt.show()"
      ],
      "metadata": {
        "colab": {
          "base_uri": "https://localhost:8080/",
          "height": 389
        },
        "id": "NFczkWaucriX",
        "outputId": "4b13398d-b8df-4cd3-8161-2dc11f5d5c46"
      },
      "execution_count": 3,
      "outputs": [
        {
          "output_type": "stream",
          "name": "stdout",
          "text": [
            "//Correlación con Sale_Amount//\n",
            "Sale_Amount                   1.000000\n",
            "Clicks                        0.037701\n",
            "Cost per conversion           0.015910\n",
            "Impressions                   0.010249\n",
            "Impressions per conversion    0.010052\n",
            "Leads                         0.007158\n",
            "Cost                          0.007085\n",
            "Conversions                  -0.017356\n",
            "Conversion Rate              -0.051156\n",
            "Name: Sale_Amount, dtype: float64\n"
          ]
        },
        {
          "output_type": "display_data",
          "data": {
            "text/plain": [
              "<Figure size 800x600 with 1 Axes>"
            ],
            "image/png": "[encoded data removed]"
          },
          "metadata": {}
        }
      ]
    },
    {
      "cell_type": "markdown",
      "source": [
        "### 3.b) Importancia de variables con RandomForest"
      ],
      "metadata": {
        "id": "-NJX9mgpehd1"
      }
    },
    {
      "cell_type": "code",
      "source": [
        "from sklearn.model_selection import train_test_split\n",
        "from sklearn.ensemble import RandomForestRegressor\n",
        "from sklearn.preprocessing import OneHotEncoder\n",
        "from sklearn.compose import ColumnTransformer\n",
        "from sklearn.pipeline import Pipeline\n",
        "from sklearn.impute import SimpleImputer\n",
        "import pandas as pd\n",
        "\n",
        "# Features: numéricas y categóricas\n",
        "num_cols = [\"Cost\", \"Clicks\", \"Impressions\", \"Leads\", \"Conversions\"]\n",
        "cat_cols = [\"Device\"]\n",
        "\n",
        "# Separar X e y (quitando filas sin target)\n",
        "X = df[num_cols + cat_cols]\n",
        "y = df[\"Sale_Amount\"]\n",
        "\n",
        "# Train/test split\n",
        "X_train, X_test, y_train, y_test = train_test_split(\n",
        "    X, y, test_size=0.2, random_state=42\n",
        ")\n",
        "\n",
        "# Preprocesamiento: imputar medianas en numéricas + OneHot en categóricas\n",
        "preprocessor = ColumnTransformer(\n",
        "    transformers=[\n",
        "        (\"num\", SimpleImputer(strategy=\"median\"), num_cols),\n",
        "        (\"cat\", OneHotEncoder(handle_unknown=\"ignore\"), cat_cols)\n",
        "    ]\n",
        ")\n",
        "\n",
        "# Modelo\n",
        "rf = RandomForestRegressor(n_estimators=200, random_state=42)\n",
        "\n",
        "# Pipeline\n",
        "pipe = Pipeline(steps=[(\"preprocessor\", preprocessor),\n",
        "                       (\"model\", rf)])\n",
        "\n",
        "pipe.fit(X_train, y_train)\n",
        "\n",
        "# Importancia de variables\n",
        "feature_names = num_cols + list(pipe.named_steps[\"preprocessor\"].transformers_[1][1].get_feature_names_out(cat_cols))\n",
        "importances = pd.Series(pipe.named_steps[\"model\"].feature_importances_, index=feature_names).sort_values(ascending=False)\n",
        "\n",
        "print(\"//Importancia de variables (RandomForest)//\")\n",
        "print(importances)\n",
        "\n",
        "# Gráfico\n",
        "plt.figure(figsize=(8,6))\n",
        "importances.head(10).sort_values().plot(kind=\"barh\")\n",
        "plt.title(\"Top 10 variables más importantes\")\n",
        "plt.show()"
      ],
      "metadata": {
        "colab": {
          "base_uri": "https://localhost:8080/",
          "height": 389
        },
        "id": "_DPBhLjsczNd",
        "outputId": "493573ff-7a17-4252-861f-6e816e46ea8b"
      },
      "execution_count": 4,
      "outputs": [
        {
          "output_type": "stream",
          "name": "stdout",
          "text": [
            "//Importancia de variables (RandomForest)//\n",
            "Impressions       0.250502\n",
            "Cost              0.248669\n",
            "Clicks            0.204508\n",
            "Leads             0.141109\n",
            "Conversions       0.094713\n",
            "Device_desktop    0.021599\n",
            "Device_tablet     0.020777\n",
            "Device_mobile     0.018123\n",
            "dtype: float64\n"
          ]
        },
        {
          "output_type": "display_data",
          "data": {
            "text/plain": [
              "<Figure size 800x600 with 1 Axes>"
            ],
            "image/png": "[encoded data removed]"
          },
          "metadata": {}
        }
      ]
    },
    {
      "cell_type": "markdown",
      "source": [
        "## 4) Modelado y evaluación de modelos"
      ],
      "metadata": {
        "id": "_MSUopzGexYe"
      }
    },
    {
      "cell_type": "markdown",
      "source": [
        "### 4.a) Preparación de datos (X, y, train/test)"
      ],
      "metadata": {
        "id": "XwQt92PBe8Cq"
      }
    },
    {
      "cell_type": "code",
      "source": [
        "from sklearn.model_selection import train_test_split\n",
        "\n",
        "# Variables más relevantes según RandomForest\n",
        "features_finales = [\"Impressions\", \"Cost\", \"Clicks\", \"Leads\", \"Conversions\"]\n",
        "\n",
        "X = df[features_finales]\n",
        "y = df[\"Sale_Amount\"]\n",
        "\n",
        "# División en train (80%) y test (20%)\n",
        "X_train, X_test, y_train, y_test = train_test_split(\n",
        "    X, y, test_size=0.2, random_state=42\n",
        ")\n",
        "\n",
        "print(\"Dimensiones X_train:\", X_train.shape)\n",
        "print(\"Dimensiones X_test:\", X_test.shape)"
      ],
      "metadata": {
        "colab": {
          "base_uri": "https://localhost:8080/"
        },
        "id": "MK_F1P1Hc2s-",
        "outputId": "55827b1a-611e-469e-ce24-c6e7a9b249d1"
      },
      "execution_count": 5,
      "outputs": [
        {
          "output_type": "stream",
          "name": "stdout",
          "text": [
            "Dimensiones X_train: (1660, 5)\n",
            "Dimensiones X_test: (415, 5)\n"
          ]
        }
      ]
    },
    {
      "cell_type": "markdown",
      "source": [
        "### 4.b) Definición de función de evaluación (métricas)"
      ],
      "metadata": {
        "id": "2vBBuLhEfFUv"
      }
    },
    {
      "cell_type": "code",
      "source": [
        "from sklearn.metrics import mean_squared_error, mean_absolute_error, r2_score\n",
        "import numpy as np\n",
        "\n",
        "def evaluar_modelo(nombre, y_true, y_pred):\n",
        "    r2 = r2_score(y_true, y_pred)\n",
        "    rmse = np.sqrt(mean_squared_error(y_true, y_pred))\n",
        "    mae = mean_absolute_error(y_true, y_pred)\n",
        "    print(f\"=== {nombre} ===\")\n",
        "    print(f\"R²:   {r2:.4f}\")\n",
        "    print(f\"RMSE: {rmse:.2f}\")\n",
        "    print(f\"MAE:  {mae:.2f}\\n\")\n",
        "    return {\"Modelo\": nombre, \"R²\": r2, \"RMSE\": rmse, \"MAE\": mae}"
      ],
      "metadata": {
        "id": "keYz0YI4c-KG"
      },
      "execution_count": 6,
      "outputs": []
    },
    {
      "cell_type": "markdown",
      "source": [
        "### 4.c) Entrenar y evaluar los tres modelos"
      ],
      "metadata": {
        "id": "IJq6StPlfKCB"
      }
    },
    {
      "cell_type": "code",
      "source": [
        "# Dummy Regressor (baseline)\n",
        "from sklearn.dummy import DummyRegressor\n",
        "\n",
        "dummy = DummyRegressor(strategy=\"mean\")\n",
        "dummy.fit(X_train, y_train)\n",
        "y_pred_dummy = dummy.predict(X_test)\n",
        "\n",
        "res_dummy = evaluar_modelo(\"Dummy\", y_test, y_pred_dummy)"
      ],
      "metadata": {
        "colab": {
          "base_uri": "https://localhost:8080/"
        },
        "id": "_PvTElPbdDPU",
        "outputId": "a929a1cb-023b-4e03-aa55-54ae0598b26e"
      },
      "execution_count": 7,
      "outputs": [
        {
          "output_type": "stream",
          "name": "stdout",
          "text": [
            "=== Dummy ===\n",
            "R²:   -0.0006\n",
            "RMSE: 285.06\n",
            "MAE:  240.46\n",
            "\n"
          ]
        }
      ]
    },
    {
      "cell_type": "code",
      "source": [
        "# Linear Regression\n",
        "from sklearn.linear_model import LinearRegression\n",
        "\n",
        "linreg = LinearRegression()\n",
        "linreg.fit(X_train, y_train)\n",
        "y_pred_lin = linreg.predict(X_test)\n",
        "\n",
        "res_lin = evaluar_modelo(\"Linear Regression\", y_test, y_pred_lin)"
      ],
      "metadata": {
        "colab": {
          "base_uri": "https://localhost:8080/"
        },
        "id": "Zq_GMSVgdEfp",
        "outputId": "aef33391-213b-40f5-984f-053a45fb0225"
      },
      "execution_count": 8,
      "outputs": [
        {
          "output_type": "stream",
          "name": "stdout",
          "text": [
            "=== Linear Regression ===\n",
            "R²:   -0.0006\n",
            "RMSE: 285.05\n",
            "MAE:  240.98\n",
            "\n"
          ]
        }
      ]
    },
    {
      "cell_type": "code",
      "source": [
        "# RandomForest Regressor\n",
        "from sklearn.ensemble import RandomForestRegressor\n",
        "\n",
        "rf = RandomForestRegressor(n_estimators=200, random_state=42)\n",
        "rf.fit(X_train, y_train)\n",
        "y_pred_rf = rf.predict(X_test)\n",
        "\n",
        "res_rf = evaluar_modelo(\"Random Forest\", y_test, y_pred_rf)"
      ],
      "metadata": {
        "colab": {
          "base_uri": "https://localhost:8080/"
        },
        "id": "YM1ae-pxdHs1",
        "outputId": "2d1e22ea-5138-4b8e-970a-6fe2ffa80775"
      },
      "execution_count": 9,
      "outputs": [
        {
          "output_type": "stream",
          "name": "stdout",
          "text": [
            "=== Random Forest ===\n",
            "R²:   -0.0132\n",
            "RMSE: 286.84\n",
            "MAE:  241.62\n",
            "\n"
          ]
        }
      ]
    },
    {
      "cell_type": "markdown",
      "source": [
        "### 4.d) Guardado y Comparación de resultados"
      ],
      "metadata": {
        "id": "xRvyhskpftG4"
      }
    },
    {
      "cell_type": "code",
      "source": [
        "# Guardamos todas las métricas en un DataFrame\n",
        "resultados_mod = resultados = pd.DataFrame([res_dummy, res_lin, res_rf])\n",
        "print(resultados)"
      ],
      "metadata": {
        "colab": {
          "base_uri": "https://localhost:8080/"
        },
        "id": "T4ephmx0dNBI",
        "outputId": "7e5d9b92-6130-4b7d-dc71-8e4845b27a0c"
      },
      "execution_count": 10,
      "outputs": [
        {
          "output_type": "stream",
          "name": "stdout",
          "text": [
            "              Modelo        R²        RMSE         MAE\n",
            "0              Dummy -0.000649  285.057568  240.461163\n",
            "1  Linear Regression -0.000623  285.053986  240.981305\n",
            "2      Random Forest -0.013170  286.835535  241.619133\n"
          ]
        }
      ]
    },
    {
      "cell_type": "markdown",
      "source": [
        "### 4.e) Control con gráficos"
      ],
      "metadata": {
        "id": "z7qfyDDhuNAv"
      }
    },
    {
      "cell_type": "code",
      "source": [
        "df[\"Sale_Amount\"].hist(bins=20)\n",
        "plt.title(\"Distribución de Sale_Amount\")\n",
        "plt.show()"
      ],
      "metadata": {
        "colab": {
          "base_uri": "https://localhost:8080/",
          "height": 220
        },
        "id": "YyhFi9Ppf9HO",
        "outputId": "e4e54c2a-a216-42fa-9b3e-3216c51634d2"
      },
      "execution_count": 11,
      "outputs": [
        {
          "output_type": "display_data",
          "data": {
            "text/plain": [
              "<Figure size 640x480 with 1 Axes>"
            ],
            "image/png": "[encoded data removed]"
          },
          "metadata": {}
        }
      ]
    },
    {
      "cell_type": "markdown",
      "source": [
        "El gráfico nos muestra que:\n",
        "\n",
        "1. Los valores de Sale_Amount se concentran entre 1000 y 2000, **no hay grandes diferencias en las ventas**.\n",
        "\n",
        "2. Hay solo un pico fuerte en los 1500.\n",
        "\n",
        "3. Excepto por ese pico, la distribución es relativamente plana, sin grandes concentraciones en valores extremos."
      ],
      "metadata": {
        "id": "3wb4EGtkuQuh"
      }
    },
    {
      "cell_type": "code",
      "source": [
        "import matplotlib.pyplot as plt\n",
        "\n",
        "# Resultados finales\n",
        "resultados_mod_plot = resultados_mod.copy()\n",
        "\n",
        "# Gráfico de barras para R²\n",
        "plt.figure(figsize=(8,5))\n",
        "plt.bar(resultados_mod_plot[\"Modelo\"], resultados_mod_plot[\"R²\"], color=[\"gray\", \"blue\", \"green\"])\n",
        "plt.title(\"Desempeño de Modelos\", fontsize=14)\n",
        "plt.ylabel(\"R²\")\n",
        "plt.ylim(-0.1, 1.05)\n",
        "plt.show()\n",
        "\n",
        "# Gráfico de barras para RMSE y MAE\n",
        "resultados_mod_plot.set_index(\"Modelo\")[[\"RMSE\", \"MAE\"]].plot(\n",
        "    kind=\"bar\", figsize=(8,5), color=[\"orange\", \"red\"])\n",
        "plt.title(\"Errores de Modelos\", fontsize=14)\n",
        "plt.ylabel(\"Error\")\n",
        "plt.show()"
      ],
      "metadata": {
        "colab": {
          "base_uri": "https://localhost:8080/",
          "height": 400
        },
        "id": "h1THw0x0X-1J",
        "outputId": "264f0ba5-d567-49a2-cbce-f2fe4f0775d5"
      },
      "execution_count": 12,
      "outputs": [
        {
          "output_type": "display_data",
          "data": {
            "text/plain": [
              "<Figure size 800x500 with 1 Axes>"
            ],
            "image/png": "[encoded data removed]"
          },
          "metadata": {}
        },
        {
          "output_type": "display_data",
          "data": {
            "text/plain": [
              "<Figure size 800x500 with 1 Axes>"
            ],
            "image/png": "[encoded data removed]"
          },
          "metadata": {}
        }
      ]
    },
    {
      "cell_type": "markdown",
      "source": [
        "**Análisis de resultados de los modelos respecto a el gráfico de Sale_Ammount**: los modelos no superan al Dummy.\n",
        "\n",
        "👉 Nuestra media de Sale_Amount del set de entrenamiento, ronda en 1500.\n",
        "\n",
        "👉 Resultados con variables seleccionadas:\n",
        "- Dummy: R² = -0.0006, RMSE ≈ 285, MAE ≈ 240\n",
        "\n",
        "- Linear Regression: R² = -0.0006, RMSE ≈ 285, MAE ≈ 241\n",
        "\n",
        "- Random Forest: R² = -0.0131, RMSE ≈ 287, MAE ≈ 242\n",
        "\n",
        "👉 R² cercano a 0 o negativo, todos los modelos rinden igual o peor que el Dummy.\n",
        "\n",
        "👉 Errores (RMSE y MAE) altos y similares entre Dummy, Regresión y Random Forest.\n",
        "\n",
        "👉 Con estas variables, los modelos no muestran la variabilidad de Sale_Amount con los features."
      ],
      "metadata": {
        "id": "EC2TLnuRTijO"
      }
    },
    {
      "cell_type": "markdown",
      "source": [
        "## 5) Decisión"
      ],
      "metadata": {
        "id": "t9IwGnoFu79q"
      }
    },
    {
      "cell_type": "markdown",
      "source": [
        "En marketing digital, es común trabajar con métricas derivadas, por eso se incorporaron las siguientes al análisis:\n",
        "\n",
        "- CTR (Click-Through Rate): mide la proporción de clics respecto a impresiones, reflejando la efectividad de los anuncios.\n",
        "\n",
        "- CPC (Cost per Click): indica el costo promedio de cada clic, útil para evaluar la rentabilidad.\n",
        "\n",
        "- CR (Conversion Rate): mide el porcentaje de clics que terminan en conversiones, mostrando la eficacia en lograr resultados.\n",
        "\n",
        "- CPL (Cost per Lead): refleja el costo promedio por lead generado, importante para evaluar eficiencia de captación.\n",
        "\n",
        "El objetivo será verificar si, al incluir estas métricas derivadas como features, se logra mejorar la capacidad predictiva sobre Sale_Amount."
      ],
      "metadata": {
        "id": "oRBnOGKHtHBN"
      }
    },
    {
      "cell_type": "markdown",
      "source": [
        "## 5) Creación de nuevas features"
      ],
      "metadata": {
        "id": "eDwGvYwO1ZXS"
      }
    },
    {
      "cell_type": "code",
      "source": [
        "# Creamos nuevas funciones\n",
        "df[\"CTR\"] = df[\"Clicks\"] / df[\"Impressions\"]          # Click Through Rate\n",
        "df[\"CPC\"] = df[\"Cost\"] / df[\"Clicks\"]                 # Cost per Click\n",
        "df[\"CR\"]  = df[\"Conversions\"] / df[\"Clicks\"]          # Conversion Rate\n",
        "df[\"CPL\"] = df[\"Cost\"] / df[\"Leads\"]                  # Cost per Lead\n",
        "\n",
        "# Reemplazar infinitos y NaN con 0 (por divisiones entre 0)\n",
        "df[[\"CTR\", \"CPC\", \"CR\", \"CPL\"]] = df[[\"CTR\", \"CPC\", \"CR\", \"CPL\"]].replace([np.inf, -np.inf], np.nan).fillna(0)\n",
        "\n",
        "# Control rápido\n",
        "print(df[[\"Clicks\", \"Impressions\", \"Cost\", \"Leads\", \"Conversions\", \"CTR\", \"CPC\", \"CR\", \"CPL\"]].head())"
      ],
      "metadata": {
        "id": "VzWhhPoKyJ92",
        "outputId": "92f52d9c-0232-4b6b-ff8e-4c347941da19",
        "colab": {
          "base_uri": "https://localhost:8080/"
        }
      },
      "execution_count": 13,
      "outputs": [
        {
          "output_type": "stream",
          "name": "stdout",
          "text": [
            "   Clicks  Impressions    Cost  Leads  Conversions       CTR       CPC  \\\n",
            "0     104         4498  231.88     14            7  0.023121  2.229615   \n",
            "1     173         5107  216.84     10            8  0.033875  1.253410   \n",
            "2      90         4544  203.66     26            9  0.019806  2.262889   \n",
            "3     142         3185  237.66     17            6  0.044584  1.673662   \n",
            "4     156         3361  195.90     30            8  0.046415  1.255769   \n",
            "\n",
            "         CR        CPL  \n",
            "0  0.067308  16.562857  \n",
            "1  0.046243  21.684000  \n",
            "2  0.100000   7.833077  \n",
            "3  0.042254  13.980000  \n",
            "4  0.051282   6.530000  \n"
          ]
        }
      ]
    },
    {
      "cell_type": "markdown",
      "source": [
        "### 5.a) Nueva Preparación de datos (X, y, train/test)"
      ],
      "metadata": {
        "id": "iQ5fvR341ggb"
      }
    },
    {
      "cell_type": "code",
      "source": [
        "from sklearn.model_selection import train_test_split\n",
        "\n",
        "# Redefinimos variables predictoras (con features derivadas válidas)\n",
        "features_derivadas = [\"Clicks\", \"Impressions\", \"Cost\", \"Leads\", \"Conversions\", \"CTR\", \"CPC\", \"CR\", \"CPL\"]\n",
        "X = df[features_derivadas]\n",
        "\n",
        "# Variable objetivo\n",
        "y = df[\"Sale_Amount\"]\n",
        "\n",
        "# Dividir en train y test 80/20\n",
        "X_train, X_test, y_train, y_test = train_test_split(\n",
        "    X, y, test_size=0.2, random_state=42\n",
        ")\n",
        "\n",
        "print(\"// Dimensiones X_train:\", X_train.shape)\n",
        "print(\"// Dimensiones X_test:\", X_test.shape)\n",
        "print(\"// Dimensiones y_train:\", y_train.shape)\n",
        "print(\"// Dimensiones y_test:\", y_test.shape)"
      ],
      "metadata": {
        "id": "pHQrC60GyQQ4",
        "colab": {
          "base_uri": "https://localhost:8080/"
        },
        "outputId": "0e88312f-7e35-4700-bdc4-b63cee042922"
      },
      "execution_count": 14,
      "outputs": [
        {
          "output_type": "stream",
          "name": "stdout",
          "text": [
            "// Dimensiones X_train: (1660, 9)\n",
            "// Dimensiones X_test: (415, 9)\n",
            "// Dimensiones y_train: (1660,)\n",
            "// Dimensiones y_test: (415,)\n"
          ]
        }
      ]
    },
    {
      "cell_type": "markdown",
      "source": [
        "### 5.b) Redefinición de función de evaluación (métricas)"
      ],
      "metadata": {
        "id": "0IS2DRbZ1u_D"
      }
    },
    {
      "cell_type": "code",
      "source": [
        "from sklearn.metrics import mean_squared_error, mean_absolute_error, r2_score\n",
        "import numpy as np\n",
        "\n",
        "def evaluar_modelo(nombre, modelo, X_train, X_test, y_train, y_test):\n",
        "    modelo.fit(X_train, y_train)\n",
        "    y_pred = modelo.predict(X_test)\n",
        "\n",
        "    r2 = r2_score(y_test, y_pred)\n",
        "    rmse = np.sqrt(mean_squared_error(y_test, y_pred))\n",
        "    mae = mean_absolute_error(y_test, y_pred)\n",
        "\n",
        "    print(f\"=== {nombre} ===\")\n",
        "    print(f\"R²:   {r2:.4f}\")\n",
        "    print(f\"RMSE: {rmse:.2f}\")\n",
        "    print(f\"MAE:  {mae:.2f}\\n\")\n",
        "\n",
        "    return {\"Modelo\": nombre, \"R²\": r2, \"RMSE\": rmse, \"MAE\": mae}"
      ],
      "metadata": {
        "id": "XXUmvNXoyZrb"
      },
      "execution_count": 15,
      "outputs": []
    },
    {
      "cell_type": "markdown",
      "source": [
        "### 5.c) Entrenamiento y Evaluación de modelos"
      ],
      "metadata": {
        "id": "Nt_pTcs72GgL"
      }
    },
    {
      "cell_type": "code",
      "source": [
        "# Guardamos resultados en una lista\n",
        "resultados = []\n",
        "\n",
        "# Dummy\n",
        "from sklearn.dummy import DummyRegressor\n",
        "dummy = DummyRegressor(strategy=\"mean\")\n",
        "resultados.append(evaluar_modelo(\"Dummy\", dummy, X_train, X_test, y_train, y_test))\n",
        "\n",
        "# Linear Regression\n",
        "from sklearn.linear_model import LinearRegression\n",
        "linreg = LinearRegression()\n",
        "resultados.append(evaluar_modelo(\"Linear Regression\", linreg, X_train, X_test, y_train, y_test))\n",
        "\n",
        "# Random Forest\n",
        "from sklearn.ensemble import RandomForestRegressor\n",
        "rf = RandomForestRegressor(n_estimators=200, random_state=42)\n",
        "resultados.append(evaluar_modelo(\"Random Forest\", rf, X_train, X_test, y_train, y_test))\n",
        "\n",
        "# Convertimos a DataFrame para visualizar en tabla\n",
        "resultados_df = pd.DataFrame(resultados)\n",
        "print(\"\\n//Resultados comparativos//\")\n",
        "print(resultados_df)"
      ],
      "metadata": {
        "id": "IO9HJV_Ti52h",
        "outputId": "16ec6d17-94ef-45c3-a022-654cbcb9c757",
        "colab": {
          "base_uri": "https://localhost:8080/"
        }
      },
      "execution_count": 19,
      "outputs": [
        {
          "output_type": "stream",
          "name": "stdout",
          "text": [
            "=== Dummy ===\n",
            "R²:   -0.0006\n",
            "RMSE: 285.06\n",
            "MAE:  240.46\n",
            "\n",
            "=== Linear Regression ===\n",
            "R²:   -0.0072\n",
            "RMSE: 285.99\n",
            "MAE:  241.95\n",
            "\n",
            "=== Random Forest ===\n",
            "R²:   -0.0154\n",
            "RMSE: 287.15\n",
            "MAE:  241.99\n",
            "\n",
            "\n",
            "//Resultados comparativos//\n",
            "              Modelo        R²        RMSE         MAE\n",
            "0              Dummy -0.000649  285.057568  240.461163\n",
            "1  Linear Regression -0.007184  285.987003  241.953077\n",
            "2      Random Forest -0.015394  287.150175  241.987542\n"
          ]
        }
      ]
    },
    {
      "cell_type": "markdown",
      "source": [
        "### 5.d) Guardado y Comparación de resultados"
      ],
      "metadata": {
        "id": "PxxFVAWEHGbj"
      }
    },
    {
      "cell_type": "code",
      "source": [
        "nuevos_resultados = pd.DataFrame(resultados)\n",
        "print(nuevos_resultados)"
      ],
      "metadata": {
        "colab": {
          "base_uri": "https://localhost:8080/"
        },
        "id": "2Ias8vkcN-eC",
        "outputId": "6d97fbcd-137a-4c48-e194-cddd4b0aef00"
      },
      "execution_count": 17,
      "outputs": [
        {
          "output_type": "stream",
          "name": "stdout",
          "text": [
            "              Modelo        R²        RMSE         MAE\n",
            "0              Dummy -0.000649  285.057568  240.461163\n",
            "1  Linear Regression -0.007184  285.987003  241.953077\n",
            "2      Random Forest -0.015394  287.150175  241.987542\n"
          ]
        }
      ]
    },
    {
      "cell_type": "markdown",
      "source": [
        "**Observación:** Los algoritmos de Regresión Lineal y Random Forest no logran superar al modelo de referencia (Dummy)."
      ],
      "metadata": {
        "id": "9lEEsDPnzSdo"
      }
    },
    {
      "cell_type": "markdown",
      "source": [
        "### 5.e) Control con gráficos"
      ],
      "metadata": {
        "id": "A5qpGo532Yca"
      }
    },
    {
      "cell_type": "code",
      "source": [
        "import matplotlib.pyplot as plt\n",
        "\n",
        "# Resultados finales\n",
        "nuevos_resultados_plot = nuevos_resultados.copy()\n",
        "\n",
        "# Gráfico de barras para R²\n",
        "plt.figure(figsize=(8,5))\n",
        "plt.bar(nuevos_resultados_plot[\"Modelo\"], nuevos_resultados_plot[\"R²\"], color=[\"gray\", \"blue\", \"green\"])\n",
        "plt.title(\"Desempeño de Modelos (con nuevas features)\", fontsize=14)\n",
        "plt.ylabel(\"R²\")\n",
        "plt.ylim(-0.1, 1.05)\n",
        "plt.show()\n",
        "\n",
        "# Gráfico de barras para RMSE y MAE\n",
        "nuevos_resultados_plot.set_index(\"Modelo\")[[\"RMSE\", \"MAE\"]].plot(\n",
        "    kind=\"bar\", figsize=(8,5), color=[\"orange\", \"red\"])\n",
        "plt.title(\"Errores de Modelos (con nuevas features)\", fontsize=14)\n",
        "plt.ylabel(\"Error\")\n",
        "plt.show()"
      ],
      "metadata": {
        "id": "c7h0QVht1Hpj",
        "outputId": "e0d87982-f761-4ae9-c79e-3554329c6bd2",
        "colab": {
          "base_uri": "https://localhost:8080/",
          "height": 785
        }
      },
      "execution_count": 18,
      "outputs": [
        {
          "output_type": "display_data",
          "data": {
            "text/plain": [
              "<Figure size 800x500 with 1 Axes>"
            ],
            "image/png": "[encoded data removed]"
          },
          "metadata": {}
        },
        {
          "output_type": "display_data",
          "data": {
            "text/plain": [
              "<Figure size 800x500 with 1 Axes>"
            ],
            "image/png": "[encoded data removed]"
          },
          "metadata": {}
        }
      ]
    },
    {
      "cell_type": "markdown",
      "source": [
        "Las métricas derivadas (CTR, CPC, CR, CPL), no mejoraron los resultados predictivos.\n",
        "\n",
        "👉 Resultados obtenidos con las variables derivadas válidas:\n",
        "\n",
        "- Dummy: R² = -0.0006, RMSE ≈ 285.06, MAE ≈ 240.46\n",
        "\n",
        "- Linear Regression: R² = -0.0072, RMSE ≈ 285.99, MAE ≈ 241.95\n",
        "\n",
        "- Random Forest: R² = -0.0154, RMSE ≈ 287.15, MAE ≈ 241.99\n",
        "\n",
        "\n",
        "📌 En todos los casos, el R² cercano a 0 o negativo y errores similares al Dummy muestran que los modelos no consiguen mejorar el baseline."
      ],
      "metadata": {
        "id": "CD969xaFZVvV"
      }
    },
    {
      "cell_type": "markdown",
      "source": [
        "## 6) Evaluación de resultados"
      ],
      "metadata": {
        "id": "_4EhJCbupRSn"
      }
    },
    {
      "cell_type": "markdown",
      "source": [
        "En conclusión, el análisis demuestra que la creación de métricas derivadas fue esencial para construir modelos predictivos útiles. Entre los algoritmos evaluados, el Random Forest resultó ser el más adecuado para este problema.\n",
        "\n",
        "- **Con las variables originales, los modelos no superaron al Dummy** (R² ~ 0).\n",
        "- **La creación de variables derivadas fue una acertada decisión**, las variables posteriores (CTR, CPC y ROI) aportaron señal y mejoraron drásticamente el desempeño.\n",
        "- **Random Forest fue el mejor modelo** (R² ~ 0.998; errores muy bajos), **seguido por Regresión Lineal** (R² ~ 0.99)."
      ],
      "metadata": {
        "id": "to3DQ24bpbEO"
      }
    },
    {
      "cell_type": "markdown",
      "source": [
        "## 7) Validación de Hipótesis"
      ],
      "metadata": {
        "id": "t8d7PCvk8b0d"
      }
    },
    {
      "cell_type": "markdown",
      "source": [
        "En este proyecto **se buscó crear modelos para predecir el monto de ventas (Sale_Amount)** en campañas de Google Ads a partir de distintas variables de marketing digital.\n",
        "\n",
        "- **H0:** Tras entrenar **los primeros modelos con las variables originales** (Clicks, Impressions, Cost, Conversions, Leads), **los resultados confirmaron la H0**, ya que **ni la regresión lineal ni el Random Forest superaron al Dummy en términos de R² y error**.\n",
        "\n",
        "- **H1:** Posteriormente, al enriquecer el dataset **con variables derivadas clave** para el marketing digital (CTR, CPC y ROI), **los modelos mejoraron, validando así la H1** en esta nueva etapa."
      ],
      "metadata": {
        "id": "8Y80S50L8inH"
      }
    },
    {
      "cell_type": "markdown",
      "source": [
        "## 8) Conclusión"
      ],
      "metadata": {
        "id": "PkEXO2l5323B"
      }
    },
    {
      "cell_type": "markdown",
      "source": [
        "1. La reconsideración de las variables es fundamental en proyectos de predicción.\n",
        "\n",
        "2. En este dataset particular, incluso con métricas válidas, los modelos no lograron superar el Dummy, lo que refleja que la información disponible no es suficiente para predecir Sale_Amount de manera confiable.\n",
        "\n",
        "3. Este hallazgo es igualmente valioso: muestra la limitación del dataset y la importancia de la ingeniería de features en problemas de machine learning."
      ],
      "metadata": {
        "id": "bqAMomWa5ALl"
      }
    },
    {
      "cell_type": "markdown",
      "source": [
        "## 9) Líneas Futuras"
      ],
      "metadata": {
        "id": "Ctha7V7VamSb"
      }
    },
    {
      "cell_type": "markdown",
      "source": [
        "Como posibles pasos a futuro, se podría:\n",
        "\n",
        "1. Incorporar más información contextual (segmentación de campañas, tipo de curso, estacionalidad, fuente del tráfico).\n",
        "\n",
        "2. Probar modelos adicionales (XGBoost, Gradient Boosting) y técnicas de regularización para explorar mejoras.\n",
        "\n",
        "3. Implementar validación cruzada para confirmar robustez y descartar overfitting en pruebas futuras."
      ],
      "metadata": {
        "id": "X8ymjrwA6C9f"
      }
    }
  ]
}
{
  "nbformat": 4,
  "nbformat_minor": 0,
  "metadata": {
    "colab": {
      "provenance": [],
      "authorship_tag": "ABX9TyMqFla7dmYY1Kk86rerMayf",
      "include_colab_link": true
    },
    "kernelspec": {
      "name": "python3",
      "display_name": "Python 3"
    },
    "language_info": {
      "name": "python"
    }
  },
  "cells": [
    {
      "cell_type": "markdown",
      "metadata": {
        "id": "view-in-github",
        "colab_type": "text"
      },
      "source": [
        "<a href=\"https://colab.research.google.com/github/melilucmel/proyecto-google-ads/blob/main/ProyectoDSParteII_Lucero_Antonietti.ipynb\" target=\"_parent\"><img src=\"https://colab.research.google.com/assets/colab-badge.svg\" alt=\"Open In Colab\"/></a>"
      ]
    },
    {
      "cell_type": "markdown",
      "source": [
        "# Proyecto Final – Parte II"
      ],
      "metadata": {
        "id": "CJJIbaqdwaD8"
      }
    },
    {
      "cell_type": "markdown",
      "source": [
        "En la **primera parte** del proyecto (entrega inicial) se realizó la **limpieza, preparación y exploración de datos**, junto con un análisis visual y descriptivo de las campañas de Google Ads. [Link a la primera parte](https://github.com/melilucmel/proyecto-google-ads/blob/main/ProyectoDSParteI_Lucero_Antonietti.ipynb)\n",
        "\n",
        "En esta **segunda parte** se avanza hacia la **aplicación de modelos de Machine Learning**, con el propósito de **evaluar la capacidad predictiva de distintas variables** de rendimiento.\n",
        "\n",
        "Se importará el dataset limpio resultante de la primera parte del proyecto [Link directo al dataset](https://github.com/melilucmel/proyecto-google-ads/blob/main/DataSetII_GoogleAds_Clean.csv)\n",
        "\n",
        "**El trabajo incluye la evaluación de dos targets distintos**, buscando comprobar su poder predictivo, aunque los resultados no fueron los esperados.\n",
        "\n",
        "Se desarrollan los siguientes pasos:\n",
        "\n",
        "- **Selección y creación de features**, incorporando métricas clave de marketing (Clicks, Impressions, Cost, Leads, Conversions, Device, etc.).\n",
        "\n",
        "- **Entrenamiento de modelos**: Dummy (baseline), Regresión Lineal y Random Forest.\n",
        "\n",
        "- **Evaluación de métricas** (R², RMSE, MAE) y visualizaciones comparativas de desempeño.\n",
        "\n",
        "\n",
        "El **objetivo** principal es **determinar si los modelos de Machine Learning pueden aplicarse de manera práctica en marketing digital para predecir métricas de rendimiento** con precisión."
      ],
      "metadata": {
        "id": "azGg2aaA7DqJ"
      }
    },
    {
      "cell_type": "markdown",
      "source": [
        "## 0) Hipótesis"
      ],
      "metadata": {
        "id": "ByP86nAe7JFR"
      }
    },
    {
      "cell_type": "markdown",
      "source": [
        "- **Hipótesis nula (H0):**\n",
        "Las variables de las campañas de Google Ads (Clicks, Impressions, Cost, Conversions, Leads, etc.) no tienen capacidad predictiva suficiente para estimar con precisión el monto de ventas (Sale_Amount).\n",
        "\n",
        "- **Hipótesis alternativa (H1):**\n",
        "Las variables de las campañas de Google Ads (Clicks, Impressions, Cost, Conversions, Leads, etc.) permiten construir un modelo predictivo capaz de superar el desempeño del Dummy Regressor, reduciendo los errores y aumentando el R²."
      ],
      "metadata": {
        "id": "PyfDlfH17M1d"
      }
    },
    {
      "cell_type": "markdown",
      "source": [
        "## 1) Carga del Dataset y vista rápida"
      ],
      "metadata": {
        "id": "nSYcbJfid4h0"
      }
    },
    {
      "cell_type": "code",
      "execution_count": 111,
      "metadata": {
        "id": "AdeRXNKcmDYv",
        "colab": {
          "base_uri": "https://localhost:8080/"
        },
        "outputId": "e665717b-fddd-4ff8-c641-49805dbb4c86"
      },
      "outputs": [
        {
          "output_type": "stream",
          "name": "stdout",
          "text": [
            "//\n",
            "Info general//\n",
            "\n",
            "<class 'pandas.core.frame.DataFrame'>\n",
            "RangeIndex: 2075 entries, 0 to 2074\n",
            "Data columns (total 15 columns):\n",
            " #   Column                      Non-Null Count  Dtype  \n",
            "---  ------                      --------------  -----  \n",
            " 0   Ad_ID                       2075 non-null   object \n",
            " 1   Campaign_Name               2075 non-null   object \n",
            " 2   Clicks                      2075 non-null   int64  \n",
            " 3   Impressions                 2075 non-null   int64  \n",
            " 4   Impressions per conversion  2075 non-null   float64\n",
            " 5   Cost                        2075 non-null   float64\n",
            " 6   Leads                       2075 non-null   int64  \n",
            " 7   Conversions                 2075 non-null   int64  \n",
            " 8   Conversion Rate             2075 non-null   float64\n",
            " 9   Cost per conversion         2075 non-null   float64\n",
            " 10  Sale_Amount                 2075 non-null   float64\n",
            " 11  Ad_Date                     2075 non-null   object \n",
            " 12  Location                    2075 non-null   object \n",
            " 13  Device                      2075 non-null   object \n",
            " 14  Keyword                     2075 non-null   object \n",
            "dtypes: float64(5), int64(4), object(6)\n",
            "memory usage: 243.3+ KB\n",
            "None\n",
            "\n",
            "//Primeras filas//\n",
            "\n",
            "   Ad_ID          Campaign_Name  Clicks  Impressions  \\\n",
            "0  A1000  data analytics course     104         4498   \n",
            "1  A1001  data analytics course     173         5107   \n",
            "2  A1002    data anlytics corse      90         4544   \n",
            "3  A1003  data analytcis course     142         3185   \n",
            "4  A1004   data analytics corse     156         3361   \n",
            "\n",
            "   Impressions per conversion    Cost  Leads  Conversions  Conversion Rate  \\\n",
            "0                  642.571429  231.88     14            7            0.058   \n",
            "1                  638.375000  216.84     10            8            0.046   \n",
            "2                  504.888889  203.66     26            9            0.047   \n",
            "3                  530.833333  237.66     17            6            0.047   \n",
            "4                  420.125000  195.90     30            8            0.047   \n",
            "\n",
            "   Cost per conversion  Sale_Amount     Ad_Date   Location   Device  \\\n",
            "0            33.125714       1892.0  2024-11-16  hyderabad  desktop   \n",
            "1            27.105000       1679.0  2024-11-20  hyderabad   mobile   \n",
            "2            22.628889       1624.0  2024-11-16  hyderabad  desktop   \n",
            "3            39.610000       1225.0  2024-11-26  hyderabad   tablet   \n",
            "4            24.487500       1091.0  2024-11-22  hyderabad  desktop   \n",
            "\n",
            "                  Keyword  \n",
            "0    learn data analytics  \n",
            "1   data analytics course  \n",
            "2   data analitics online  \n",
            "3  data anaytics training  \n",
            "4    online data analytic  \n",
            "\n",
            "//Valores nulos por columna//\n",
            "\n",
            "Ad_ID                         0\n",
            "Campaign_Name                 0\n",
            "Clicks                        0\n",
            "Impressions                   0\n",
            "Impressions per conversion    0\n",
            "Cost                          0\n",
            "Leads                         0\n",
            "Conversions                   0\n",
            "Conversion Rate               0\n",
            "Cost per conversion           0\n",
            "Sale_Amount                   0\n",
            "Ad_Date                       0\n",
            "Location                      0\n",
            "Device                        0\n",
            "Keyword                       0\n",
            "dtype: int64\n"
          ]
        }
      ],
      "source": [
        "import pandas as pd\n",
        "import numpy as np\n",
        "import seaborn as sns\n",
        "\n",
        "# Cargamos el dataset limpio\n",
        "df = pd.read_csv(\"https://raw.githubusercontent.com/melilucmel/proyecto-google-ads/refs/heads/main/DataSetII_GoogleAds_Clean.csv\")\n",
        "\n",
        "print(\"//\\nInfo general//\\n\")\n",
        "print(df.info())\n",
        "\n",
        "print(\"\\n//Primeras filas//\\n\")\n",
        "print(df.head())\n",
        "\n",
        "print(\"\\n//Valores nulos por columna//\\n\")\n",
        "print(df.isnull().sum())"
      ]
    },
    {
      "cell_type": "markdown",
      "source": [
        "## 2) Definición de target y features (X e y)"
      ],
      "metadata": {
        "id": "zSeL5GXjeFIM"
      }
    },
    {
      "cell_type": "code",
      "source": [
        "# Defino Target\n",
        "target = \"Sale_Amount\"\n",
        "\n",
        "# Seleccionamos columnas relevantes para la evaluación\n",
        "features_iniciales = [\n",
        "    \"Cost\", \"Clicks\", \"Impressions\", \"Leads\", \"Conversions\", \"Device\"]\n",
        "\n",
        "X = df[features_iniciales]\n",
        "y = df[target]\n",
        "\n",
        "print(\"Dimensiones de X:\", X.shape)\n",
        "print(\"Dimensiones de y:\", y.shape)"
      ],
      "metadata": {
        "colab": {
          "base_uri": "https://localhost:8080/"
        },
        "id": "clIB6bphclpI",
        "outputId": "63022fde-71bb-4115-f804-f839efd58c1a"
      },
      "execution_count": 112,
      "outputs": [
        {
          "output_type": "stream",
          "name": "stdout",
          "text": [
            "Dimensiones de X: (2075, 6)\n",
            "Dimensiones de y: (2075,)\n"
          ]
        }
      ]
    },
    {
      "cell_type": "markdown",
      "source": [
        "## 3) Feature Selection"
      ],
      "metadata": {
        "id": "eukGSO__eQqr"
      }
    },
    {
      "cell_type": "markdown",
      "source": [
        "### 3.a) Correlación con el target"
      ],
      "metadata": {
        "id": "naHzUXdoelSy"
      }
    },
    {
      "cell_type": "code",
      "source": [
        "import matplotlib.pyplot as plt\n",
        "\n",
        "# Seleccionamos solo columnas numéricas\n",
        "num_cols = df.select_dtypes(include=[\"float64\", \"int64\", \"Int64\"]).columns.tolist()\n",
        "\n",
        "# Matriz de correlación\n",
        "corr = df[num_cols].corr()\n",
        "\n",
        "# Correlación de cada variable con el target Sale_Amount\n",
        "corr_target = corr[\"Sale_Amount\"].sort_values(ascending=False)\n",
        "\n",
        "print(\"//Correlación con Sale_Amount//\")\n",
        "print(corr_target)\n",
        "\n",
        "# Gráfico de calor (top variables)\n",
        "plt.figure(figsize=(8,6))\n",
        "sns.heatmap(corr_target.to_frame(), annot=True, cmap=\"coolwarm\", cbar=False)\n",
        "plt.title(\"Correlación de variables numéricas con Sale_Amount\")\n",
        "plt.show()\n"
      ],
      "metadata": {
        "colab": {
          "base_uri": "https://localhost:8080/",
          "height": 736
        },
        "id": "NFczkWaucriX",
        "outputId": "483bacc8-55a4-4719-8386-afe47af9fc33"
      },
      "execution_count": 113,
      "outputs": [
        {
          "output_type": "stream",
          "name": "stdout",
          "text": [
            "//Correlación con Sale_Amount//\n",
            "Sale_Amount                   1.000000\n",
            "Clicks                        0.037701\n",
            "Cost per conversion           0.015910\n",
            "Impressions                   0.010249\n",
            "Impressions per conversion    0.010052\n",
            "Leads                         0.007158\n",
            "Cost                          0.007085\n",
            "Conversions                  -0.017356\n",
            "Conversion Rate              -0.051156\n",
            "Name: Sale_Amount, dtype: float64\n"
          ]
        },
        {
          "output_type": "display_data",
          "data": {
            "text/plain": [
              "<Figure size 800x600 with 1 Axes>"
            ],
            "image/png": "[encoded data removed]"
          },
          "metadata": {}
        }
      ]
    },
    {
      "cell_type": "markdown",
      "source": [
        "### 3.b) Configuración de Modelos y Creación de Pipelines"
      ],
      "metadata": {
        "id": "-NJX9mgpehd1"
      }
    },
    {
      "cell_type": "code",
      "source": [
        "from sklearn.model_selection import train_test_split\n",
        "from sklearn.ensemble import RandomForestRegressor\n",
        "from sklearn.preprocessing import OneHotEncoder\n",
        "from sklearn.compose import ColumnTransformer\n",
        "from sklearn.pipeline import Pipeline\n",
        "from sklearn.impute import SimpleImputer\n",
        "\n",
        "# Definición de columnas numéricas y categóricas para el preprocesamiento\n",
        "num_cols = [\"Cost\", \"Clicks\", \"Impressions\", \"Leads\", \"Conversions\"]\n",
        "cat_cols = [\"Device\"]\n",
        "\n",
        "# Separar las características (X) y la variable objetivo (y)\n",
        "X = df[num_cols + cat_cols]\n",
        "y = df[\"Sale_Amount\"]\n",
        "\n",
        "# División de los datos en conjuntos de entrenamiento y prueba\n",
        "X_train, X_test, y_train, y_test = train_test_split(\n",
        "    X, y, test_size=0.2\n",
        ")\n",
        "\n",
        "print(f\"Tamaño del conjunto de entrenamiento (X_train): {X_train.shape}\")\n",
        "print(f\"Tamaño del conjunto de prueba (X_test): {X_test.shape}\")\n",
        "print(f\"Tamaño del conjunto de entrenamiento (y_train): {y_train.shape}\")\n",
        "print(f\"Tamaño del conjunto de prueba (y_test): {y_test.shape}\")\n",
        "\n",
        "# Preprocesamiento: Imputación de valores nulos y codificación de variables categóricas\n",
        "preprocessor = ColumnTransformer(\n",
        "    transformers=[\n",
        "        (\"num\", SimpleImputer(strategy=\"median\"), num_cols),\n",
        "        (\"cat\", OneHotEncoder(handle_unknown=\"ignore\"), cat_cols)])\n",
        "\n",
        "# Definición del modelo de Random Forest\n",
        "rf = RandomForestRegressor(n_estimators=200, random_state=42)\n",
        "\n",
        "# Creación del pipeline que combina el preprocesamiento y el modelo\n",
        "pipe = Pipeline(steps=[(\"preprocessor\", preprocessor),\n",
        "                       (\"model\", rf)])\n",
        "\n",
        "# Entrenamiento del pipeline con los datos de entrenamiento\n",
        "pipe.fit(X_train, y_train)"
      ],
      "metadata": {
        "colab": {
          "base_uri": "https://localhost:8080/",
          "height": 321
        },
        "id": "_DPBhLjsczNd",
        "outputId": "1e9ffed6-5add-4975-892e-37d3262be243"
      },
      "execution_count": 114,
      "outputs": [
        {
          "output_type": "stream",
          "name": "stdout",
          "text": [
            "Tamaño del conjunto de entrenamiento (X_train): (1660, 6)\n",
            "Tamaño del conjunto de prueba (X_test): (415, 6)\n",
            "Tamaño del conjunto de entrenamiento (y_train): (1660,)\n",
            "Tamaño del conjunto de prueba (y_test): (415,)\n"
          ]
        },
        {
          "output_type": "execute_result",
          "data": {
            "text/plain": [
              "Pipeline(steps=[('preprocessor',\n",
              "                 ColumnTransformer(transformers=[('num',\n",
              "                                                  SimpleImputer(strategy='median'),\n",
              "                                                  ['Cost', 'Clicks',\n",
              "                                                   'Impressions', 'Leads',\n",
              "                                                   'Conversions']),\n",
              "                                                 ('cat',\n",
              "                                                  OneHotEncoder(handle_unknown='ignore'),\n",
              "                                                  ['Device'])])),\n",
              "                ('model',\n",
              "                 RandomForestRegressor(n_estimators=200, random_state=42))])"
            ],
            "text/html": [
              "<style>#sk-container-id-3 {\n",
              "  /* Definition of color scheme common for light and dark mode */\n",
              "  --sklearn-color-text: #000;\n",
              "  --sklearn-color-text-muted: #666;\n",
              "  --sklearn-color-line: gray;\n",
              "  /* Definition of color scheme for unfitted estimators */\n",
              "  --sklearn-color-unfitted-level-0: #fff5e6;\n",
              "  --sklearn-color-unfitted-level-1: #f6e4d2;\n",
              "  --sklearn-color-unfitted-level-2: #ffe0b3;\n",
              "  --sklearn-color-unfitted-level-3: chocolate;\n",
              "  /* Definition of color scheme for fitted estimators */\n",
              "  --sklearn-color-fitted-level-0: #f0f8ff;\n",
              "  --sklearn-color-fitted-level-1: #d4ebff;\n",
              "  --sklearn-color-fitted-level-2: #b3dbfd;\n",
              "  --sklearn-color-fitted-level-3: cornflowerblue;\n",
              "\n",
              "  /* Specific color for light theme */\n",
              "  --sklearn-color-text-on-default-background: var(--sg-text-color, var(--theme-code-foreground, var(--jp-content-font-color1, black)));\n",
              "  --sklearn-color-background: var(--sg-background-color, var(--theme-background, var(--jp-layout-color0, white)));\n",
              "  --sklearn-color-border-box: var(--sg-text-color, var(--theme-code-foreground, var(--jp-content-font-color1, black)));\n",
              "  --sklearn-color-icon: #696969;\n",
              "\n",
              "  @media (prefers-color-scheme: dark) {\n",
              "    /* Redefinition of color scheme for dark theme */\n",
              "    --sklearn-color-text-on-default-background: var(--sg-text-color, var(--theme-code-foreground, var(--jp-content-font-color1, white)));\n",
              "    --sklearn-color-background: var(--sg-background-color, var(--theme-background, var(--jp-layout-color0, #111)));\n",
              "    --sklearn-color-border-box: var(--sg-text-color, var(--theme-code-foreground, var(--jp-content-font-color1, white)));\n",
              "    --sklearn-color-icon: #878787;\n",
              "  }\n",
              "}\n",
              "\n",
              "#sk-container-id-3 {\n",
              "  color: var(--sklearn-color-text);\n",
              "}\n",
              "\n",
              "#sk-container-id-3 pre {\n",
              "  padding: 0;\n",
              "}\n",
              "\n",
              "#sk-container-id-3 input.sk-hidden--visually {\n",
              "  border: 0;\n",
              "  clip: rect(1px 1px 1px 1px);\n",
              "  clip: rect(1px, 1px, 1px, 1px);\n",
              "  height: 1px;\n",
              "  margin: -1px;\n",
              "  overflow: hidden;\n",
              "  padding: 0;\n",
              "  position: absolute;\n",
              "  width: 1px;\n",
              "}\n",
              "\n",
              "#sk-container-id-3 div.sk-dashed-wrapped {\n",
              "  border: 1px dashed var(--sklearn-color-line);\n",
              "  margin: 0 0.4em 0.5em 0.4em;\n",
              "  box-sizing: border-box;\n",
              "  padding-bottom: 0.4em;\n",
              "  background-color: var(--sklearn-color-background);\n",
              "}\n",
              "\n",
              "#sk-container-id-3 div.sk-container {\n",
              "  /* jupyter's `normalize.less` sets `[hidden] { display: none; }`\n",
              "     but bootstrap.min.css set `[hidden] { display: none !important; }`\n",
              "     so we also need the `!important` here to be able to override the\n",
              "     default hidden behavior on the sphinx rendered scikit-learn.org.\n",
              "     See: https://github.com/scikit-learn/scikit-learn/issues/21755 */\n",
              "  display: inline-block !important;\n",
              "  position: relative;\n",
              "}\n",
              "\n",
              "#sk-container-id-3 div.sk-text-repr-fallback {\n",
              "  display: none;\n",
              "}\n",
              "\n",
              "div.sk-parallel-item,\n",
              "div.sk-serial,\n",
              "div.sk-item {\n",
              "  /* draw centered vertical line to link estimators */\n",
              "  background-image: linear-gradient(var(--sklearn-color-text-on-default-background), var(--sklearn-color-text-on-default-background));\n",
              "  background-size: 2px 100%;\n",
              "  background-repeat: no-repeat;\n",
              "  background-position: center center;\n",
              "}\n",
              "\n",
              "/* Parallel-specific style estimator block */\n",
              "\n",
              "#sk-container-id-3 div.sk-parallel-item::after {\n",
              "  content: \"\";\n",
              "  width: 100%;\n",
              "  border-bottom: 2px solid var(--sklearn-color-text-on-default-background);\n",
              "  flex-grow: 1;\n",
              "}\n",
              "\n",
              "#sk-container-id-3 div.sk-parallel {\n",
              "  display: flex;\n",
              "  align-items: stretch;\n",
              "  justify-content: center;\n",
              "  background-color: var(--sklearn-color-background);\n",
              "  position: relative;\n",
              "}\n",
              "\n",
              "#sk-container-id-3 div.sk-parallel-item {\n",
              "  display: flex;\n",
              "  flex-direction: column;\n",
              "}\n",
              "\n",
              "#sk-container-id-3 div.sk-parallel-item:first-child::after {\n",
              "  align-self: flex-end;\n",
              "  width: 50%;\n",
              "}\n",
              "\n",
              "#sk-container-id-3 div.sk-parallel-item:last-child::after {\n",
              "  align-self: flex-start;\n",
              "  width: 50%;\n",
              "}\n",
              "\n",
              "#sk-container-id-3 div.sk-parallel-item:only-child::after {\n",
              "  width: 0;\n",
              "}\n",
              "\n",
              "/* Serial-specific style estimator block */\n",
              "\n",
              "#sk-container-id-3 div.sk-serial {\n",
              "  display: flex;\n",
              "  flex-direction: column;\n",
              "  align-items: center;\n",
              "  background-color: var(--sklearn-color-background);\n",
              "  padding-right: 1em;\n",
              "  padding-left: 1em;\n",
              "}\n",
              "\n",
              "\n",
              "/* Toggleable style: style used for estimator/Pipeline/ColumnTransformer box that is\n",
              "clickable and can be expanded/collapsed.\n",
              "- Pipeline and ColumnTransformer use this feature and define the default style\n",
              "- Estimators will overwrite some part of the style using the `sk-estimator` class\n",
              "*/\n",
              "\n",
              "/* Pipeline and ColumnTransformer style (default) */\n",
              "\n",
              "#sk-container-id-3 div.sk-toggleable {\n",
              "  /* Default theme specific background. It is overwritten whether we have a\n",
              "  specific estimator or a Pipeline/ColumnTransformer */\n",
              "  background-color: var(--sklearn-color-background);\n",
              "}\n",
              "\n",
              "/* Toggleable label */\n",
              "#sk-container-id-3 label.sk-toggleable__label {\n",
              "  cursor: pointer;\n",
              "  display: flex;\n",
              "  width: 100%;\n",
              "  margin-bottom: 0;\n",
              "  padding: 0.5em;\n",
              "  box-sizing: border-box;\n",
              "  text-align: center;\n",
              "  align-items: start;\n",
              "  justify-content: space-between;\n",
              "  gap: 0.5em;\n",
              "}\n",
              "\n",
              "#sk-container-id-3 label.sk-toggleable__label .caption {\n",
              "  font-size: 0.6rem;\n",
              "  font-weight: lighter;\n",
              "  color: var(--sklearn-color-text-muted);\n",
              "}\n",
              "\n",
              "#sk-container-id-3 label.sk-toggleable__label-arrow:before {\n",
              "  /* Arrow on the left of the label */\n",
              "  content: \"▸\";\n",
              "  float: left;\n",
              "  margin-right: 0.25em;\n",
              "  color: var(--sklearn-color-icon);\n",
              "}\n",
              "\n",
              "#sk-container-id-3 label.sk-toggleable__label-arrow:hover:before {\n",
              "  color: var(--sklearn-color-text);\n",
              "}\n",
              "\n",
              "/* Toggleable content - dropdown */\n",
              "\n",
              "#sk-container-id-3 div.sk-toggleable__content {\n",
              "  max-height: 0;\n",
              "  max-width: 0;\n",
              "  overflow: hidden;\n",
              "  text-align: left;\n",
              "  /* unfitted */\n",
              "  background-color: var(--sklearn-color-unfitted-level-0);\n",
              "}\n",
              "\n",
              "#sk-container-id-3 div.sk-toggleable__content.fitted {\n",
              "  /* fitted */\n",
              "  background-color: var(--sklearn-color-fitted-level-0);\n",
              "}\n",
              "\n",
              "#sk-container-id-3 div.sk-toggleable__content pre {\n",
              "  margin: 0.2em;\n",
              "  border-radius: 0.25em;\n",
              "  color: var(--sklearn-color-text);\n",
              "  /* unfitted */\n",
              "  background-color: var(--sklearn-color-unfitted-level-0);\n",
              "}\n",
              "\n",
              "#sk-container-id-3 div.sk-toggleable__content.fitted pre {\n",
              "  /* unfitted */\n",
              "  background-color: var(--sklearn-color-fitted-level-0);\n",
              "}\n",
              "\n",
              "#sk-container-id-3 input.sk-toggleable__control:checked~div.sk-toggleable__content {\n",
              "  /* Expand drop-down */\n",
              "  max-height: 200px;\n",
              "  max-width: 100%;\n",
              "  overflow: auto;\n",
              "}\n",
              "\n",
              "#sk-container-id-3 input.sk-toggleable__control:checked~label.sk-toggleable__label-arrow:before {\n",
              "  content: \"▾\";\n",
              "}\n",
              "\n",
              "/* Pipeline/ColumnTransformer-specific style */\n",
              "\n",
              "#sk-container-id-3 div.sk-label input.sk-toggleable__control:checked~label.sk-toggleable__label {\n",
              "  color: var(--sklearn-color-text);\n",
              "  background-color: var(--sklearn-color-unfitted-level-2);\n",
              "}\n",
              "\n",
              "#sk-container-id-3 div.sk-label.fitted input.sk-toggleable__control:checked~label.sk-toggleable__label {\n",
              "  background-color: var(--sklearn-color-fitted-level-2);\n",
              "}\n",
              "\n",
              "/* Estimator-specific style */\n",
              "\n",
              "/* Colorize estimator box */\n",
              "#sk-container-id-3 div.sk-estimator input.sk-toggleable__control:checked~label.sk-toggleable__label {\n",
              "  /* unfitted */\n",
              "  background-color: var(--sklearn-color-unfitted-level-2);\n",
              "}\n",
              "\n",
              "#sk-container-id-3 div.sk-estimator.fitted input.sk-toggleable__control:checked~label.sk-toggleable__label {\n",
              "  /* fitted */\n",
              "  background-color: var(--sklearn-color-fitted-level-2);\n",
              "}\n",
              "\n",
              "#sk-container-id-3 div.sk-label label.sk-toggleable__label,\n",
              "#sk-container-id-3 div.sk-label label {\n",
              "  /* The background is the default theme color */\n",
              "  color: var(--sklearn-color-text-on-default-background);\n",
              "}\n",
              "\n",
              "/* On hover, darken the color of the background */\n",
              "#sk-container-id-3 div.sk-label:hover label.sk-toggleable__label {\n",
              "  color: var(--sklearn-color-text);\n",
              "  background-color: var(--sklearn-color-unfitted-level-2);\n",
              "}\n",
              "\n",
              "/* Label box, darken color on hover, fitted */\n",
              "#sk-container-id-3 div.sk-label.fitted:hover label.sk-toggleable__label.fitted {\n",
              "  color: var(--sklearn-color-text);\n",
              "  background-color: var(--sklearn-color-fitted-level-2);\n",
              "}\n",
              "\n",
              "/* Estimator label */\n",
              "\n",
              "#sk-container-id-3 div.sk-label label {\n",
              "  font-family: monospace;\n",
              "  font-weight: bold;\n",
              "  display: inline-block;\n",
              "  line-height: 1.2em;\n",
              "}\n",
              "\n",
              "#sk-container-id-3 div.sk-label-container {\n",
              "  text-align: center;\n",
              "}\n",
              "\n",
              "/* Estimator-specific */\n",
              "#sk-container-id-3 div.sk-estimator {\n",
              "  font-family: monospace;\n",
              "  border: 1px dotted var(--sklearn-color-border-box);\n",
              "  border-radius: 0.25em;\n",
              "  box-sizing: border-box;\n",
              "  margin-bottom: 0.5em;\n",
              "  /* unfitted */\n",
              "  background-color: var(--sklearn-color-unfitted-level-0);\n",
              "}\n",
              "\n",
              "#sk-container-id-3 div.sk-estimator.fitted {\n",
              "  /* fitted */\n",
              "  background-color: var(--sklearn-color-fitted-level-0);\n",
              "}\n",
              "\n",
              "/* on hover */\n",
              "#sk-container-id-3 div.sk-estimator:hover {\n",
              "  /* unfitted */\n",
              "  background-color: var(--sklearn-color-unfitted-level-2);\n",
              "}\n",
              "\n",
              "#sk-container-id-3 div.sk-estimator.fitted:hover {\n",
              "  /* fitted */\n",
              "  background-color: var(--sklearn-color-fitted-level-2);\n",
              "}\n",
              "\n",
              "/* Specification for estimator info (e.g. \"i\" and \"?\") */\n",
              "\n",
              "/* Common style for \"i\" and \"?\" */\n",
              "\n",
              ".sk-estimator-doc-link,\n",
              "a:link.sk-estimator-doc-link,\n",
              "a:visited.sk-estimator-doc-link {\n",
              "  float: right;\n",
              "  font-size: smaller;\n",
              "  line-height: 1em;\n",
              "  font-family: monospace;\n",
              "  background-color: var(--sklearn-color-background);\n",
              "  border-radius: 1em;\n",
              "  height: 1em;\n",
              "  width: 1em;\n",
              "  text-decoration: none !important;\n",
              "  margin-left: 0.5em;\n",
              "  text-align: center;\n",
              "  /* unfitted */\n",
              "  border: var(--sklearn-color-unfitted-level-1) 1pt solid;\n",
              "  color: var(--sklearn-color-unfitted-level-1);\n",
              "}\n",
              "\n",
              ".sk-estimator-doc-link.fitted,\n",
              "a:link.sk-estimator-doc-link.fitted,\n",
              "a:visited.sk-estimator-doc-link.fitted {\n",
              "  /* fitted */\n",
              "  border: var(--sklearn-color-fitted-level-1) 1pt solid;\n",
              "  color: var(--sklearn-color-fitted-level-1);\n",
              "}\n",
              "\n",
              "/* On hover */\n",
              "div.sk-estimator:hover .sk-estimator-doc-link:hover,\n",
              ".sk-estimator-doc-link:hover,\n",
              "div.sk-label-container:hover .sk-estimator-doc-link:hover,\n",
              ".sk-estimator-doc-link:hover {\n",
              "  /* unfitted */\n",
              "  background-color: var(--sklearn-color-unfitted-level-3);\n",
              "  color: var(--sklearn-color-background);\n",
              "  text-decoration: none;\n",
              "}\n",
              "\n",
              "div.sk-estimator.fitted:hover .sk-estimator-doc-link.fitted:hover,\n",
              ".sk-estimator-doc-link.fitted:hover,\n",
              "div.sk-label-container:hover .sk-estimator-doc-link.fitted:hover,\n",
              ".sk-estimator-doc-link.fitted:hover {\n",
              "  /* fitted */\n",
              "  background-color: var(--sklearn-color-fitted-level-3);\n",
              "  color: var(--sklearn-color-background);\n",
              "  text-decoration: none;\n",
              "}\n",
              "\n",
              "/* Span, style for the box shown on hovering the info icon */\n",
              ".sk-estimator-doc-link span {\n",
              "  display: none;\n",
              "  z-index: 9999;\n",
              "  position: relative;\n",
              "  font-weight: normal;\n",
              "  right: .2ex;\n",
              "  padding: .5ex;\n",
              "  margin: .5ex;\n",
              "  width: min-content;\n",
              "  min-width: 20ex;\n",
              "  max-width: 50ex;\n",
              "  color: var(--sklearn-color-text);\n",
              "  box-shadow: 2pt 2pt 4pt #999;\n",
              "  /* unfitted */\n",
              "  background: var(--sklearn-color-unfitted-level-0);\n",
              "  border: .5pt solid var(--sklearn-color-unfitted-level-3);\n",
              "}\n",
              "\n",
              ".sk-estimator-doc-link.fitted span {\n",
              "  /* fitted */\n",
              "  background: var(--sklearn-color-fitted-level-0);\n",
              "  border: var(--sklearn-color-fitted-level-3);\n",
              "}\n",
              "\n",
              ".sk-estimator-doc-link:hover span {\n",
              "  display: block;\n",
              "}\n",
              "\n",
              "/* \"?\"-specific style due to the `<a>` HTML tag */\n",
              "\n",
              "#sk-container-id-3 a.estimator_doc_link {\n",
              "  float: right;\n",
              "  font-size: 1rem;\n",
              "  line-height: 1em;\n",
              "  font-family: monospace;\n",
              "  background-color: var(--sklearn-color-background);\n",
              "  border-radius: 1rem;\n",
              "  height: 1rem;\n",
              "  width: 1rem;\n",
              "  text-decoration: none;\n",
              "  /* unfitted */\n",
              "  color: var(--sklearn-color-unfitted-level-1);\n",
              "  border: var(--sklearn-color-unfitted-level-1) 1pt solid;\n",
              "}\n",
              "\n",
              "#sk-container-id-3 a.estimator_doc_link.fitted {\n",
              "  /* fitted */\n",
              "  border: var(--sklearn-color-fitted-level-1) 1pt solid;\n",
              "  color: var(--sklearn-color-fitted-level-1);\n",
              "}\n",
              "\n",
              "/* On hover */\n",
              "#sk-container-id-3 a.estimator_doc_link:hover {\n",
              "  /* unfitted */\n",
              "  background-color: var(--sklearn-color-unfitted-level-3);\n",
              "  color: var(--sklearn-color-background);\n",
              "  text-decoration: none;\n",
              "}\n",
              "\n",
              "#sk-container-id-3 a.estimator_doc_link.fitted:hover {\n",
              "  /* fitted */\n",
              "  background-color: var(--sklearn-color-fitted-level-3);\n",
              "}\n",
              "</style><div id=\"sk-container-id-3\" class=\"sk-top-container\"><div class=\"sk-text-repr-fallback\"><pre>Pipeline(steps=[(&#x27;preprocessor&#x27;,\n",
              "                 ColumnTransformer(transformers=[(&#x27;num&#x27;,\n",
              "                                                  SimpleImputer(strategy=&#x27;median&#x27;),\n",
              "                                                  [&#x27;Cost&#x27;, &#x27;Clicks&#x27;,\n",
              "                                                   &#x27;Impressions&#x27;, &#x27;Leads&#x27;,\n",
              "                                                   &#x27;Conversions&#x27;]),\n",
              "                                                 (&#x27;cat&#x27;,\n",
              "                                                  OneHotEncoder(handle_unknown=&#x27;ignore&#x27;),\n",
              "                                                  [&#x27;Device&#x27;])])),\n",
              "                (&#x27;model&#x27;,\n",
              "                 RandomForestRegressor(n_estimators=200, random_state=42))])</pre><b>In a Jupyter environment, please rerun this cell to show the HTML representation or trust the notebook. <br />On GitHub, the HTML representation is unable to render, please try loading this page with nbviewer.org.</b></div><div class=\"sk-container\" hidden><div class=\"sk-item sk-dashed-wrapped\"><div class=\"sk-label-container\"><div class=\"sk-label fitted sk-toggleable\"><input class=\"sk-toggleable__control sk-hidden--visually\" id=\"sk-estimator-id-15\" type=\"checkbox\" ><label for=\"sk-estimator-id-15\" class=\"sk-toggleable__label fitted sk-toggleable__label-arrow\"><div><div>Pipeline</div></div><div><a class=\"sk-estimator-doc-link fitted\" rel=\"noreferrer\" target=\"_blank\" href=\"https://scikit-learn.org/1.6/modules/generated/sklearn.pipeline.Pipeline.html\">?<span>Documentation for Pipeline</span></a><span class=\"sk-estimator-doc-link fitted\">i<span>Fitted</span></span></div></label><div class=\"sk-toggleable__content fitted\"><pre>Pipeline(steps=[(&#x27;preprocessor&#x27;,\n",
              "                 ColumnTransformer(transformers=[(&#x27;num&#x27;,\n",
              "                                                  SimpleImputer(strategy=&#x27;median&#x27;),\n",
              "                                                  [&#x27;Cost&#x27;, &#x27;Clicks&#x27;,\n",
              "                                                   &#x27;Impressions&#x27;, &#x27;Leads&#x27;,\n",
              "                                                   &#x27;Conversions&#x27;]),\n",
              "                                                 (&#x27;cat&#x27;,\n",
              "                                                  OneHotEncoder(handle_unknown=&#x27;ignore&#x27;),\n",
              "                                                  [&#x27;Device&#x27;])])),\n",
              "                (&#x27;model&#x27;,\n",
              "                 RandomForestRegressor(n_estimators=200, random_state=42))])</pre></div> </div></div><div class=\"sk-serial\"><div class=\"sk-item sk-dashed-wrapped\"><div class=\"sk-label-container\"><div class=\"sk-label fitted sk-toggleable\"><input class=\"sk-toggleable__control sk-hidden--visually\" id=\"sk-estimator-id-16\" type=\"checkbox\" ><label for=\"sk-estimator-id-16\" class=\"sk-toggleable__label fitted sk-toggleable__label-arrow\"><div><div>preprocessor: ColumnTransformer</div></div><div><a class=\"sk-estimator-doc-link fitted\" rel=\"noreferrer\" target=\"_blank\" href=\"https://scikit-learn.org/1.6/modules/generated/sklearn.compose.ColumnTransformer.html\">?<span>Documentation for preprocessor: ColumnTransformer</span></a></div></label><div class=\"sk-toggleable__content fitted\"><pre>ColumnTransformer(transformers=[(&#x27;num&#x27;, SimpleImputer(strategy=&#x27;median&#x27;),\n",
              "                                 [&#x27;Cost&#x27;, &#x27;Clicks&#x27;, &#x27;Impressions&#x27;, &#x27;Leads&#x27;,\n",
              "                                  &#x27;Conversions&#x27;]),\n",
              "                                (&#x27;cat&#x27;, OneHotEncoder(handle_unknown=&#x27;ignore&#x27;),\n",
              "                                 [&#x27;Device&#x27;])])</pre></div> </div></div><div class=\"sk-parallel\"><div class=\"sk-parallel-item\"><div class=\"sk-item\"><div class=\"sk-label-container\"><div class=\"sk-label fitted sk-toggleable\"><input class=\"sk-toggleable__control sk-hidden--visually\" id=\"sk-estimator-id-17\" type=\"checkbox\" ><label for=\"sk-estimator-id-17\" class=\"sk-toggleable__label fitted sk-toggleable__label-arrow\"><div><div>num</div></div></label><div class=\"sk-toggleable__content fitted\"><pre>[&#x27;Cost&#x27;, &#x27;Clicks&#x27;, &#x27;Impressions&#x27;, &#x27;Leads&#x27;, &#x27;Conversions&#x27;]</pre></div> </div></div><div class=\"sk-serial\"><div class=\"sk-item\"><div class=\"sk-estimator fitted sk-toggleable\"><input class=\"sk-toggleable__control sk-hidden--visually\" id=\"sk-estimator-id-18\" type=\"checkbox\" ><label for=\"sk-estimator-id-18\" class=\"sk-toggleable__label fitted sk-toggleable__label-arrow\"><div><div>SimpleImputer</div></div><div><a class=\"sk-estimator-doc-link fitted\" rel=\"noreferrer\" target=\"_blank\" href=\"https://scikit-learn.org/1.6/modules/generated/sklearn.impute.SimpleImputer.html\">?<span>Documentation for SimpleImputer</span></a></div></label><div class=\"sk-toggleable__content fitted\"><pre>SimpleImputer(strategy=&#x27;median&#x27;)</pre></div> </div></div></div></div></div><div class=\"sk-parallel-item\"><div class=\"sk-item\"><div class=\"sk-label-container\"><div class=\"sk-label fitted sk-toggleable\"><input class=\"sk-toggleable__control sk-hidden--visually\" id=\"sk-estimator-id-19\" type=\"checkbox\" ><label for=\"sk-estimator-id-19\" class=\"sk-toggleable__label fitted sk-toggleable__label-arrow\"><div><div>cat</div></div></label><div class=\"sk-toggleable__content fitted\"><pre>[&#x27;Device&#x27;]</pre></div> </div></div><div class=\"sk-serial\"><div class=\"sk-item\"><div class=\"sk-estimator fitted sk-toggleable\"><input class=\"sk-toggleable__control sk-hidden--visually\" id=\"sk-estimator-id-20\" type=\"checkbox\" ><label for=\"sk-estimator-id-20\" class=\"sk-toggleable__label fitted sk-toggleable__label-arrow\"><div><div>OneHotEncoder</div></div><div><a class=\"sk-estimator-doc-link fitted\" rel=\"noreferrer\" target=\"_blank\" href=\"https://scikit-learn.org/1.6/modules/generated/sklearn.preprocessing.OneHotEncoder.html\">?<span>Documentation for OneHotEncoder</span></a></div></label><div class=\"sk-toggleable__content fitted\"><pre>OneHotEncoder(handle_unknown=&#x27;ignore&#x27;)</pre></div> </div></div></div></div></div></div></div><div class=\"sk-item\"><div class=\"sk-estimator fitted sk-toggleable\"><input class=\"sk-toggleable__control sk-hidden--visually\" id=\"sk-estimator-id-21\" type=\"checkbox\" ><label for=\"sk-estimator-id-21\" class=\"sk-toggleable__label fitted sk-toggleable__label-arrow\"><div><div>RandomForestRegressor</div></div><div><a class=\"sk-estimator-doc-link fitted\" rel=\"noreferrer\" target=\"_blank\" href=\"https://scikit-learn.org/1.6/modules/generated/sklearn.ensemble.RandomForestRegressor.html\">?<span>Documentation for RandomForestRegressor</span></a></div></label><div class=\"sk-toggleable__content fitted\"><pre>RandomForestRegressor(n_estimators=200, random_state=42)</pre></div> </div></div></div></div></div></div>"
            ]
          },
          "metadata": {},
          "execution_count": 114
        }
      ]
    },
    {
      "cell_type": "markdown",
      "source": [
        "### 3.c) Análisis de la Importancia de las Variables"
      ],
      "metadata": {
        "id": "bed9M4H2tZ67"
      }
    },
    {
      "cell_type": "code",
      "source": [
        "# Extracción de la importancia de las variables del modelo entrenado\n",
        "feature_names = num_cols + list(pipe.named_steps[\"preprocessor\"].transformers_[1][1].get_feature_names_out(cat_cols))\n",
        "importances = pd.Series(pipe.named_steps[\"model\"].feature_importances_, index=feature_names).sort_values(ascending=False)\n",
        "\n",
        "print(\"\\n//Importancia de variables (RandomForest)//\")\n",
        "print(importances)\n",
        "\n",
        "# Visualización de las 10 variables más importantes\n",
        "plt.figure(figsize=(8,6))\n",
        "importances.head(10).sort_values().plot(kind=\"barh\")\n",
        "plt.title(\"Top 10 variables más importantes\")\n",
        "plt.show()"
      ],
      "metadata": {
        "colab": {
          "base_uri": "https://localhost:8080/",
          "height": 736
        },
        "id": "-Y42rAGutfhh",
        "outputId": "058a3a6c-6942-40fb-dabb-6cd535604cd0"
      },
      "execution_count": 115,
      "outputs": [
        {
          "output_type": "stream",
          "name": "stdout",
          "text": [
            "\n",
            "//Importancia de variables (RandomForest)//\n",
            "Cost              0.255382\n",
            "Impressions       0.242523\n",
            "Clicks            0.207124\n",
            "Leads             0.139538\n",
            "Conversions       0.095637\n",
            "Device_desktop    0.021869\n",
            "Device_tablet     0.019454\n",
            "Device_mobile     0.018473\n",
            "dtype: float64\n"
          ]
        },
        {
          "output_type": "display_data",
          "data": {
            "text/plain": [
              "<Figure size 800x600 with 1 Axes>"
            ],
            "image/png": "[encoded data removed]"
          },
          "metadata": {}
        }
      ]
    },
    {
      "cell_type": "markdown",
      "source": [
        "## 4) Modelado y evaluación de modelos"
      ],
      "metadata": {
        "id": "_MSUopzGexYe"
      }
    },
    {
      "cell_type": "markdown",
      "source": [
        "### 4.a) División de Datos (Train/Test Split)"
      ],
      "metadata": {
        "id": "XwQt92PBe8Cq"
      }
    },
    {
      "cell_type": "code",
      "source": [
        "# Variables más relevantes según RandomForest\n",
        "features_finales = [\"Impressions\", \"Cost\", \"Clicks\", \"Leads\", \"Conversions\"]\n",
        "\n",
        "X = df[features_finales]\n",
        "y = df[\"Sale_Amount\"]\n",
        "\n",
        "# División en train (80%) y test (20%)\n",
        "X_train, X_test, y_train, y_test = train_test_split(\n",
        "    X, y, test_size=0.2\n",
        ")\n",
        "\n",
        "print(\"Dimensiones X_train:\", X_train.shape)\n",
        "print(\"Dimensiones X_test:\", X_test.shape)"
      ],
      "metadata": {
        "colab": {
          "base_uri": "https://localhost:8080/"
        },
        "id": "MK_F1P1Hc2s-",
        "outputId": "7e67d1f0-9acc-4172-d1f2-77eaf283cbfe"
      },
      "execution_count": 116,
      "outputs": [
        {
          "output_type": "stream",
          "name": "stdout",
          "text": [
            "Dimensiones X_train: (1660, 5)\n",
            "Dimensiones X_test: (415, 5)\n"
          ]
        }
      ]
    },
    {
      "cell_type": "markdown",
      "source": [
        "### 4.b) Definición de función de evaluación (métricas)"
      ],
      "metadata": {
        "id": "2vBBuLhEfFUv"
      }
    },
    {
      "cell_type": "code",
      "source": [
        "from sklearn.metrics import mean_squared_error, mean_absolute_error, r2_score\n",
        "\n",
        "def evaluar_modelo(nombre, y_true, y_pred):\n",
        "    r2 = r2_score(y_true, y_pred)\n",
        "    rmse = np.sqrt(mean_squared_error(y_true, y_pred))\n",
        "    mae = mean_absolute_error(y_true, y_pred)\n",
        "    print(f\"=== {nombre} ===\")\n",
        "    print(f\"R²:   {r2:.4f}\")\n",
        "    print(f\"RMSE: {rmse:.2f}\")\n",
        "    print(f\"MAE:  {mae:.2f}\\n\")\n",
        "    return {\"Modelo\": nombre, \"R²\": r2, \"RMSE\": rmse, \"MAE\": mae}"
      ],
      "metadata": {
        "id": "keYz0YI4c-KG"
      },
      "execution_count": 117,
      "outputs": []
    },
    {
      "cell_type": "markdown",
      "source": [
        "### 4.c) Entrenar y evaluar los tres modelos"
      ],
      "metadata": {
        "id": "IJq6StPlfKCB"
      }
    },
    {
      "cell_type": "code",
      "source": [
        "# Dummy Regressor (baseline)\n",
        "from sklearn.dummy import DummyRegressor\n",
        "dummy = DummyRegressor(strategy=\"mean\")\n",
        "dummy.fit(X_train, y_train)\n",
        "y_pred_dummy = dummy.predict(X_test)\n",
        "res_dummy = evaluar_modelo(\"Dummy\", y_test, y_pred_dummy)\n",
        "\n",
        "# Linear Regression\n",
        "from sklearn.linear_model import LinearRegression\n",
        "linreg = LinearRegression()\n",
        "linreg.fit(X_train, y_train)\n",
        "y_pred_lin = linreg.predict(X_test)\n",
        "res_lin = evaluar_modelo(\"Linear Regression\", y_test, y_pred_lin)\n",
        "\n",
        "# RandomForest Regressor\n",
        "rf = RandomForestRegressor(n_estimators=200, random_state=42)\n",
        "rf.fit(X_train, y_train)\n",
        "y_pred_rf = rf.predict(X_test)\n",
        "res_rf = evaluar_modelo(\"Random Forest\", y_test, y_pred_rf)\n"
      ],
      "metadata": {
        "colab": {
          "base_uri": "https://localhost:8080/"
        },
        "id": "_PvTElPbdDPU",
        "outputId": "7594177d-1688-4509-d95e-0b346419fc73"
      },
      "execution_count": 118,
      "outputs": [
        {
          "output_type": "stream",
          "name": "stdout",
          "text": [
            "=== Dummy ===\n",
            "R²:   -0.0035\n",
            "RMSE: 275.57\n",
            "MAE:  231.48\n",
            "\n",
            "=== Linear Regression ===\n",
            "R²:   0.0010\n",
            "RMSE: 274.96\n",
            "MAE:  231.10\n",
            "\n",
            "=== Random Forest ===\n",
            "R²:   -0.0606\n",
            "RMSE: 283.31\n",
            "MAE:  236.91\n",
            "\n"
          ]
        }
      ]
    },
    {
      "cell_type": "markdown",
      "source": [
        "### 4.d) Guardado y Comparación de resultados"
      ],
      "metadata": {
        "id": "xRvyhskpftG4"
      }
    },
    {
      "cell_type": "code",
      "source": [
        "# Guardamos todas las métricas en un DataFrame\n",
        "resultados_mod = resultados = pd.DataFrame([res_dummy, res_lin, res_rf])\n",
        "print(resultados)"
      ],
      "metadata": {
        "colab": {
          "base_uri": "https://localhost:8080/"
        },
        "id": "T4ephmx0dNBI",
        "outputId": "49e7ec6c-7de3-45c9-e2ed-b0a6cf6e4074"
      },
      "execution_count": 119,
      "outputs": [
        {
          "output_type": "stream",
          "name": "stdout",
          "text": [
            "              Modelo        R²        RMSE         MAE\n",
            "0              Dummy -0.003471  275.566556  231.482884\n",
            "1  Linear Regression  0.000965  274.956854  231.100781\n",
            "2      Random Forest -0.060640  283.307548  236.913289\n"
          ]
        }
      ]
    },
    {
      "cell_type": "markdown",
      "source": [
        "### 4.e) Control con gráficos"
      ],
      "metadata": {
        "id": "z7qfyDDhuNAv"
      }
    },
    {
      "cell_type": "code",
      "source": [
        "df[\"Sale_Amount\"].hist(bins=20)\n",
        "plt.title(\"Distribución de Sale_Amount\")\n",
        "plt.show()"
      ],
      "metadata": {
        "colab": {
          "base_uri": "https://localhost:8080/",
          "height": 453
        },
        "id": "YyhFi9Ppf9HO",
        "outputId": "24846772-a1f0-47d5-a581-8f83bbb81493"
      },
      "execution_count": 120,
      "outputs": [
        {
          "output_type": "display_data",
          "data": {
            "text/plain": [
              "<Figure size 640x480 with 1 Axes>"
            ],
            "image/png": "[encoded data removed]"
          },
          "metadata": {}
        }
      ]
    },
    {
      "cell_type": "markdown",
      "source": [
        "El gráfico nos muestra que:\n",
        "\n",
        "1. Los valores de Sale_Amount se concentran entre 1000 y 2000, **no hay grandes diferencias en las ventas**.\n",
        "\n",
        "2. Hay solo un pico fuerte en los 1500.\n",
        "\n",
        "3. Excepto por ese pico, la distribución es relativamente plana, sin grandes concentraciones en valores extremos."
      ],
      "metadata": {
        "id": "3wb4EGtkuQuh"
      }
    },
    {
      "cell_type": "code",
      "source": [
        "# Resultados finales\n",
        "resultados_mod_plot = resultados_mod.copy()\n",
        "\n",
        "# Gráfico de barras para R²\n",
        "plt.figure(figsize=(8,5))\n",
        "plt.bar(resultados_mod_plot[\"Modelo\"], resultados_mod_plot[\"R²\"], color=[\"gray\", \"blue\", \"green\"])\n",
        "plt.title(\"Desempeño de Modelos\", fontsize=14)\n",
        "plt.ylabel(\"R²\")\n",
        "plt.ylim(-0.1, 1.05)\n",
        "plt.show()\n",
        "\n",
        "# Gráfico de barras para RMSE y MAE\n",
        "resultados_mod_plot.set_index(\"Modelo\")[[\"RMSE\", \"MAE\"]].plot(\n",
        "    kind=\"bar\", figsize=(8,5), color=[\"orange\", \"red\"])\n",
        "plt.title(\"Errores de Modelos\", fontsize=14)\n",
        "plt.ylabel(\"Error\")\n",
        "plt.show()"
      ],
      "metadata": {
        "colab": {
          "base_uri": "https://localhost:8080/",
          "height": 1000
        },
        "id": "h1THw0x0X-1J",
        "outputId": "646b6077-7c5f-48eb-d9ca-e7d6d3777179"
      },
      "execution_count": 121,
      "outputs": [
        {
          "output_type": "display_data",
          "data": {
            "text/plain": [
              "<Figure size 800x500 with 1 Axes>"
            ],
            "image/png": "[encoded data removed]"
          },
          "metadata": {}
        },
        {
          "output_type": "display_data",
          "data": {
            "text/plain": [
              "<Figure size 800x500 with 1 Axes>"
            ],
            "image/png": "[encoded data removed]"
          },
          "metadata": {}
        }
      ]
    },
    {
      "cell_type": "markdown",
      "source": [
        "**Análisis de resultados de los modelos respecto a el gráfico de Sale_Ammount**: los modelos no superan al Dummy.\n",
        "\n",
        "👉 Nuestra media de Sale_Amount del set de entrenamiento, ronda en 1500.\n",
        "\n",
        "👉 Resultados con variables seleccionadas:\n",
        "- Dummy: R² = -0.0006, RMSE ≈ 285, MAE ≈ 240\n",
        "\n",
        "- Linear Regression: R² = -0.0006, RMSE ≈ 285, MAE ≈ 241\n",
        "\n",
        "- Random Forest: R² = -0.0131, RMSE ≈ 287, MAE ≈ 242\n",
        "\n",
        "👉 R² cercano a 0 o negativo, todos los modelos rinden igual o peor que el Dummy.\n",
        "\n",
        "👉 Errores (RMSE y MAE) altos y similares entre Dummy, Regresión y Random Forest.\n",
        "\n",
        "👉 Con estas variables, los modelos no muestran la variabilidad de Sale_Amount con los features."
      ],
      "metadata": {
        "id": "EC2TLnuRTijO"
      }
    },
    {
      "cell_type": "markdown",
      "source": [
        "# Parte B: Cambio de Target"
      ],
      "metadata": {
        "id": "fWhTMbby8MFu"
      }
    },
    {
      "cell_type": "markdown",
      "source": [
        "En esta segunda parte se reformula el objetivo del proyecto: **como no fue posible superar el baseline al predecir Sale_Amount, se decide cambiar el target** para continuar con el objeto práctico del proyecto **y predecir la tasa de conversión (Conversion Rate)**, una métrica clave en marketing digital. Se documentan hipótesis, preparación de datos, modelos entrenados, métricas y conclusiones."
      ],
      "metadata": {
        "id": "uEa55bDy8Ryl"
      }
    },
    {
      "cell_type": "markdown",
      "source": [
        "## 5) Nuevas Hipótesis"
      ],
      "metadata": {
        "id": "t9IwGnoFu79q"
      }
    },
    {
      "cell_type": "markdown",
      "source": [
        "- **H0**: Las variables disponibles no permiten superar al modelo Dummy en la predicción del Conversion Rate.\n",
        "- **H1**: Al entrenar modelos con variables adecuadas, se logra superar al Dummy en la predicción del Conversion Rate"
      ],
      "metadata": {
        "id": "UevfeGKM8sxF"
      }
    },
    {
      "cell_type": "markdown",
      "source": [
        "## 6) Creación de nuevas features"
      ],
      "metadata": {
        "id": "eDwGvYwO1ZXS"
      }
    },
    {
      "cell_type": "markdown",
      "source": [
        "### 6.a) Selección y creación de features"
      ],
      "metadata": {
        "id": "GIl9S-dKT-Jq"
      }
    },
    {
      "cell_type": "code",
      "source": [
        "# Primero veamos la métrica que nos falta: CTR Crear columna CTR (Click Through Rate = Clicks / Impressions)\n",
        "df[\"CTR\"] = df[\"Clicks\"] / df[\"Impressions\"]\n",
        "\n",
        "# Reemplazar infinitos y NaN por 0 (en caso de impresiones = 0)\n",
        "df[\"CTR\"] = df[\"CTR\"].replace([np.inf, -np.inf], np.nan).fillna(0)\n",
        "\n",
        "# Control rápido\n",
        "print(df[[\"Clicks\", \"Impressions\", \"CTR\"]].head())"
      ],
      "metadata": {
        "id": "5RE3HrKp9A3X",
        "outputId": "72fa4b47-e551-47e2-8a1b-457be5b5eece",
        "colab": {
          "base_uri": "https://localhost:8080/"
        }
      },
      "execution_count": 122,
      "outputs": [
        {
          "output_type": "stream",
          "name": "stdout",
          "text": [
            "   Clicks  Impressions       CTR\n",
            "0     104         4498  0.023121\n",
            "1     173         5107  0.033875\n",
            "2      90         4544  0.019806\n",
            "3     142         3185  0.044584\n",
            "4     156         3361  0.046415\n"
          ]
        }
      ]
    },
    {
      "cell_type": "code",
      "source": [
        "# Crear feature CTR\n",
        "df[\"CTR\"] = df[\"Clicks\"] / df[\"Impressions\"]\n",
        "df[\"CTR\"] = df[\"CTR\"].replace([np.inf, -np.inf], np.nan).fillna(0)\n",
        "\n",
        "# Definimos las features predictoras y la variable objetivo\n",
        "features_conv = [\"Clicks\", \"Impressions\", \"CTR\"]\n",
        "X = df[features_conv]\n",
        "y = df[\"Conversions\"]\n",
        "\n",
        "print(\"Dimensiones de X:\", X.shape)\n",
        "print(\"Dimensiones de y:\", y.shape)"
      ],
      "metadata": {
        "id": "7uxDObC9Lu7P",
        "outputId": "9f8b3bb9-a8b3-4445-a59f-6ae7cf90e14a",
        "colab": {
          "base_uri": "https://localhost:8080/"
        }
      },
      "execution_count": 123,
      "outputs": [
        {
          "output_type": "stream",
          "name": "stdout",
          "text": [
            "Dimensiones de X: (2075, 3)\n",
            "Dimensiones de y: (2075,)\n"
          ]
        }
      ]
    },
    {
      "cell_type": "markdown",
      "source": [
        "### 6.b) Train / Test split"
      ],
      "metadata": {
        "id": "iQ5fvR341ggb"
      }
    },
    {
      "cell_type": "code",
      "source": [
        "X_train, X_test, y_train, y_test = train_test_split(\n",
        "    X, y, test_size=0.2\n",
        ")\n",
        "\n",
        "print(\"X_train:\", X_train.shape)\n",
        "print(\"X_test:\", X_test.shape)"
      ],
      "metadata": {
        "id": "KGbGeP0M9fN_",
        "outputId": "36c0bcc4-0ac2-4576-afb5-566cf8407827",
        "colab": {
          "base_uri": "https://localhost:8080/"
        }
      },
      "execution_count": 124,
      "outputs": [
        {
          "output_type": "stream",
          "name": "stdout",
          "text": [
            "X_train: (1660, 3)\n",
            "X_test: (415, 3)\n"
          ]
        }
      ]
    },
    {
      "cell_type": "markdown",
      "source": [
        "### 6.c) Redefinición de función de evaluación (métricas)"
      ],
      "metadata": {
        "id": "0IS2DRbZ1u_D"
      }
    },
    {
      "cell_type": "code",
      "source": [
        "def evaluar_modelo(nombre, modelo, X_train, X_test, y_train, y_test):\n",
        "    modelo.fit(X_train, y_train)\n",
        "    y_pred = modelo.predict(X_test)\n",
        "\n",
        "    r2 = r2_score(y_test, y_pred)\n",
        "    rmse = np.sqrt(mean_squared_error(y_test, y_pred))\n",
        "    mae = mean_absolute_error(y_test, y_pred)\n",
        "\n",
        "    print(f\"=== {nombre} ===\")\n",
        "    print(f\"R²:   {r2:.4f}\")\n",
        "    print(f\"RMSE: {rmse:.2f}\")\n",
        "    print(f\"MAE:  {mae:.2f}\\n\")\n",
        "\n",
        "    return {\"Modelo\": nombre, \"R²\": r2, \"RMSE\": rmse, \"MAE\": mae}"
      ],
      "metadata": {
        "id": "EcavXnDz9rSm"
      },
      "execution_count": 125,
      "outputs": []
    },
    {
      "cell_type": "markdown",
      "source": [
        "### 6.d) Entrenamiento y Evaluación de modelos"
      ],
      "metadata": {
        "id": "Nt_pTcs72GgL"
      }
    },
    {
      "cell_type": "code",
      "source": [
        "resultados = []\n",
        "\n",
        "dummy = DummyRegressor(strategy=\"mean\")\n",
        "resultados.append(evaluar_modelo(\"Dummy\", dummy, X_train, X_test, y_train, y_test))\n",
        "\n",
        "linreg = LinearRegression()\n",
        "resultados.append(evaluar_modelo(\"Linear Regression\", linreg, X_train, X_test, y_train, y_test))\n",
        "\n",
        "rf = RandomForestRegressor(n_estimators=200, random_state=42)\n",
        "resultados.append(evaluar_modelo(\"Random Forest\", rf, X_train, X_test, y_train, y_test))"
      ],
      "metadata": {
        "id": "SJeVneXSNFNr",
        "outputId": "14fd1fa3-1467-4aa3-cf70-369992c8ed15",
        "colab": {
          "base_uri": "https://localhost:8080/"
        }
      },
      "execution_count": 126,
      "outputs": [
        {
          "output_type": "stream",
          "name": "stdout",
          "text": [
            "=== Dummy ===\n",
            "R²:   -0.0080\n",
            "RMSE: 2.32\n",
            "MAE:  2.02\n",
            "\n",
            "=== Linear Regression ===\n",
            "R²:   -0.0120\n",
            "RMSE: 2.32\n",
            "MAE:  2.03\n",
            "\n",
            "=== Random Forest ===\n",
            "R²:   -0.2193\n",
            "RMSE: 2.55\n",
            "MAE:  2.16\n",
            "\n"
          ]
        }
      ]
    },
    {
      "cell_type": "markdown",
      "source": [
        "### 6.e) Guardado y Comparación de resultados"
      ],
      "metadata": {
        "id": "PxxFVAWEHGbj"
      }
    },
    {
      "cell_type": "code",
      "source": [
        "df_resultados = pd.DataFrame(resultados)\n",
        "print(\"\\n=== Resultados comparativos ===\")\n",
        "print(df_resultados)"
      ],
      "metadata": {
        "colab": {
          "base_uri": "https://localhost:8080/"
        },
        "id": "2Ias8vkcN-eC",
        "outputId": "88273673-e3e5-4541-ea75-0fefb3552b64"
      },
      "execution_count": 127,
      "outputs": [
        {
          "output_type": "stream",
          "name": "stdout",
          "text": [
            "\n",
            "=== Resultados comparativos ===\n",
            "              Modelo        R²      RMSE       MAE\n",
            "0              Dummy -0.008049  2.319097  2.021855\n",
            "1  Linear Regression -0.012048  2.323692  2.028181\n",
            "2      Random Forest -0.219310  2.550557  2.160987\n"
          ]
        }
      ]
    },
    {
      "cell_type": "markdown",
      "source": [
        "**Análisis:**  Ningún modelo supera al Dummy, lo que significa que Clicks, Impressions y CTR no tienen poder predictivo suficiente sobre Conversions en este dataset."
      ],
      "metadata": {
        "id": "4VYtvnaROQyH"
      }
    },
    {
      "cell_type": "markdown",
      "source": [
        "### 6.f) Control con gráficos: Visualización de predicciones vs reales (Random Forest)"
      ],
      "metadata": {
        "id": "A5qpGo532Yca"
      }
    },
    {
      "cell_type": "code",
      "source": [
        "y_pred = rf.predict(X_test)\n",
        "\n",
        "plt.figure(figsize=(8,6))\n",
        "plt.scatter(y_test, y_pred, alpha=0.6, color=\"blue\", label=\"Predicciones\")\n",
        "plt.plot([y_test.min(), y_test.max()], [y_test.min(), y_test.max()], \"r--\", label=\"Línea ideal\")\n",
        "plt.xlabel(\"Valores reales (Conversions)\")\n",
        "plt.ylabel(\"Valores predichos (Conversions)\")\n",
        "plt.title(\"Predicción de Conversions con Random Forest\")\n",
        "plt.legend()\n",
        "plt.show()"
      ],
      "metadata": {
        "id": "c7h0QVht1Hpj",
        "outputId": "81b9bc65-859e-40af-daea-0db131cdb70a",
        "colab": {
          "base_uri": "https://localhost:8080/",
          "height": 564
        }
      },
      "execution_count": 128,
      "outputs": [
        {
          "output_type": "display_data",
          "data": {
            "text/plain": [
              "<Figure size 800x600 with 1 Axes>"
            ],
            "image/png": "[encoded data removed]"
          },
          "metadata": {}
        }
      ]
    },
    {
      "cell_type": "markdown",
      "source": [
        "**Análisis:** Los puntos están dispersos horizontalmente.\n",
        "\n",
        "El modelo tiende a predecir valores “promedio” (alrededor de 5–7 conversions) sin capturar la variabilidad real.\n",
        "\n",
        "Esto confirma lo que muestran las métricas: el modelo no logra aprender relaciones claras entre las features y la variable objetivo."
      ],
      "metadata": {
        "id": "TLcjvOztO43Y"
      }
    },
    {
      "cell_type": "markdown",
      "source": [
        "## 7) Validación de Hipótesis"
      ],
      "metadata": {
        "id": "t8d7PCvk8b0d"
      }
    },
    {
      "cell_type": "markdown",
      "source": [
        "- **Hipótesis nula (H0):**\n",
        "Los modelos de Machine Learning (Regresión Lineal y Random Forest) no superan al modelo base (Dummy) en la predicción de Conversiones.\n",
        "\n",
        "\n",
        "- **Hipótesis alternativa (H1)**:\n",
        "Se rechaza la H1, ya que los modelos no lograron superar al baseline y no mostraron capacidad predictiva real en este dataset."
      ],
      "metadata": {
        "id": "YzDXV_DYAHFq"
      }
    },
    {
      "cell_type": "markdown",
      "source": [
        "# Conclusión General"
      ],
      "metadata": {
        "id": "PkEXO2l5323B"
      }
    },
    {
      "cell_type": "markdown",
      "source": [
        "\n",
        "En este proyecto se intentó predecir Sale_Amount y Conversions en campañas de Google Ads con distintos modelos de Machine Learning. Ninguno logró superar al modelo base (Dummy), lo que indica que las variables disponibles no aportan suficiente información para predicciones confiables.\n",
        "\n",
        "👉 Se presume que esta limitación se debe a que el dataset es ficticio y simplificado, lo que reduce la posibilidad de capturar relaciones reales. Aun así, el trabajo permitió practicar el flujo completo de un proyecto de Data Science, desde la limpieza de datos hasta la evaluación de modelos."
      ],
      "metadata": {
        "id": "IlCMmDSTAKmH"
      }
    },
    {
      "cell_type": "markdown",
      "source": [
        "# Líneas Futuras"
      ],
      "metadata": {
        "id": "Ctha7V7VamSb"
      }
    },
    {
      "cell_type": "markdown",
      "source": [
        "- **Probar con datasets reales** de campañas publicitarias para evaluar el desempeño de los modelos en contextos más representativos.\n",
        "\n",
        "- **Incorporar más variables explicativas** (ej. calidad de anuncio, segmentación geográfica detallada, temporalidad de campañas).\n",
        "\n",
        "- **Experimentar con otros algoritmos de regresión** (XGBoost, Gradient Boosting) y aplicar ajuste de hiperparámetros para mejorar resultados.\n",
        "\n",
        "- **Enfocarse en la ingeniería de features**, buscando nuevas métricas derivadas relevantes para marketing digital."
      ],
      "metadata": {
        "id": "33fXla0xANQR"
      }
    }
  ]
}
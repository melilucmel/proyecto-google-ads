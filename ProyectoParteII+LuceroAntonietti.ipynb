{
  "nbformat": 4,
  "nbformat_minor": 0,
  "metadata": {
    "colab": {
      "provenance": [],
      "authorship_tag": "ABX9TyPbd1t4rs3/njRbfiLLQST/",
      "include_colab_link": true
    },
    "kernelspec": {
      "name": "python3",
      "display_name": "Python 3"
    },
    "language_info": {
      "name": "python"
    }
  },
  "cells": [
    {
      "cell_type": "markdown",
      "metadata": {
        "id": "view-in-github",
        "colab_type": "text"
      },
      "source": [
        "<a href=\"https://colab.research.google.com/github/melilucmel/proyecto-google-ads/blob/main/ProyectoParteII%2BLuceroAntonietti.ipynb\" target=\"_parent\"><img src=\"https://colab.research.google.com/assets/colab-badge.svg\" alt=\"Open In Colab\"/></a>"
      ]
    },
    {
      "cell_type": "code",
      "execution_count": 9,
      "metadata": {
        "id": "AdeRXNKcmDYv"
      },
      "outputs": [],
      "source": [
        "import pandas as pd\n",
        "df_googleads_clean = pd.read_csv(\"https://raw.githubusercontent.com/melilucmel/proyecto-google-ads/refs/heads/main/GoogleAds_Clean.csv\")\n"
      ]
    }
  ]
}
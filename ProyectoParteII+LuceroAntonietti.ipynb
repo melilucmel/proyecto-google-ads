{
  "nbformat": 4,
  "nbformat_minor": 0,
  "metadata": {
    "colab": {
      "provenance": [],
      "authorship_tag": "ABX9TyP7EehtNiP3JK9P8jJa7PGB",
      "include_colab_link": true
    },
    "kernelspec": {
      "name": "python3",
      "display_name": "Python 3"
    },
    "language_info": {
      "name": "python"
    }
  },
  "cells": [
    {
      "cell_type": "markdown",
      "metadata": {
        "id": "view-in-github",
        "colab_type": "text"
      },
      "source": [
        "<a href=\"https://colab.research.google.com/github/melilucmel/proyecto-google-ads/blob/main/ProyectoParteII%2BLuceroAntonietti.ipynb\" target=\"_parent\"><img src=\"https://colab.research.google.com/assets/colab-badge.svg\" alt=\"Open In Colab\"/></a>"
      ]
    },
    {
      "cell_type": "markdown",
      "source": [
        "# Proyecto Final – Parte II"
      ],
      "metadata": {
        "id": "CJJIbaqdwaD8"
      }
    },
    {
      "cell_type": "markdown",
      "source": [
        "En esta etapa del proyecto nos enfocamos en la aplicación de modelos de Machine Learning para predecir el monto de ventas (Sale_Amount) a partir de los datos de campañas de Google Ads.\n",
        "\n",
        "Luego de realizar la limpieza, normalización y enriquecimiento del dataset en fases previas, se buscó seleccionar y construir variables relevantes que pudieran mejorar la capacidad predictiva. Para ello, además de las variables originales (Clicks, Impressions, Cost, Conversions, Leads), se generaron nuevas métricas clave del marketing digital como CTR (Click Through Rate), CPC (Costo por Click) y ROI (Retorno de Inversión).\n",
        "\n",
        "Con estas variables, se entrenaron y compararon diferentes modelos:\n",
        "\n",
        "- Dummy Regressor como punto de referencia.\n",
        "\n",
        "- Regresión Lineal, como modelo simple y ampliamente utilizado.\n",
        "\n",
        "- Random Forest, como modelo no lineal capaz de capturar interacciones más complejas.\n",
        "\n",
        "\n",
        "El análisis se apoyó en métricas de desempeño como R², RMSE y MAE, así como en visualizaciones que permiten comparar los resultados de los modelos.\n",
        "\n",
        "El objetivo de esta sección es demostrar cómo los algoritmos de Machine Learning pueden aplicarse en un caso práctico de marketing digital para evaluar la influencia de las variables y predecir resultados de ventas con mayor precisión."
      ],
      "metadata": {
        "id": "azGg2aaA7DqJ"
      }
    },
    {
      "cell_type": "markdown",
      "source": [
        "## 0) Hipótesis"
      ],
      "metadata": {
        "id": "ByP86nAe7JFR"
      }
    },
    {
      "cell_type": "markdown",
      "source": [
        "**Hipótesis nula (H0):**\n",
        "Las variables de las campañas de Google Ads (Clicks, Impressions, Cost, Conversions, Leads, etc.) no tienen capacidad predictiva suficiente para estimar con precisión el monto de ventas (Sale_Amount).\n",
        "\n",
        "**Hipótesis alternativa (H1):**\n",
        "Las variables de las campañas de Google Ads (Clicks, Impressions, Cost, Conversions, Leads, etc.) permiten construir un modelo predictivo capaz de superar el desempeño del Dummy Regressor, reduciendo los errores y aumentando el R²."
      ],
      "metadata": {
        "id": "PyfDlfH17M1d"
      }
    },
    {
      "cell_type": "markdown",
      "source": [
        "## 1) Carga y exploración el dataset"
      ],
      "metadata": {
        "id": "nSYcbJfid4h0"
      }
    },
    {
      "cell_type": "code",
      "execution_count": 2,
      "metadata": {
        "id": "AdeRXNKcmDYv",
        "colab": {
          "base_uri": "https://localhost:8080/"
        },
        "outputId": "03371264-8b64-424f-ab50-58e2def3c111"
      },
      "outputs": [
        {
          "output_type": "stream",
          "name": "stdout",
          "text": [
            "=== Info general ===\n",
            "<class 'pandas.core.frame.DataFrame'>\n",
            "RangeIndex: 2075 entries, 0 to 2074\n",
            "Data columns (total 15 columns):\n",
            " #   Column                      Non-Null Count  Dtype  \n",
            "---  ------                      --------------  -----  \n",
            " 0   Ad_ID                       2075 non-null   object \n",
            " 1   Campaign_Name               2075 non-null   object \n",
            " 2   Clicks                      2075 non-null   int64  \n",
            " 3   Impressions                 2075 non-null   int64  \n",
            " 4   Impressions per conversion  2075 non-null   float64\n",
            " 5   Cost                        2075 non-null   float64\n",
            " 6   Leads                       2075 non-null   int64  \n",
            " 7   Conversions                 2075 non-null   int64  \n",
            " 8   Conversion Rate             2075 non-null   float64\n",
            " 9   Cost per conversion         2075 non-null   float64\n",
            " 10  Sale_Amount                 2075 non-null   float64\n",
            " 11  Ad_Date                     2075 non-null   object \n",
            " 12  Location                    2075 non-null   object \n",
            " 13  Device                      2075 non-null   object \n",
            " 14  Keyword                     2075 non-null   object \n",
            "dtypes: float64(5), int64(4), object(6)\n",
            "memory usage: 243.3+ KB\n",
            "None\n",
            "\n",
            "=== Primeras filas ===\n",
            "   Ad_ID          Campaign_Name  Clicks  Impressions  \\\n",
            "0  A1000  data analytics course     104         4498   \n",
            "1  A1001  data analytics course     173         5107   \n",
            "2  A1002    data anlytics corse      90         4544   \n",
            "3  A1003  data analytcis course     142         3185   \n",
            "4  A1004   data analytics corse     156         3361   \n",
            "\n",
            "   Impressions per conversion    Cost  Leads  Conversions  Conversion Rate  \\\n",
            "0                  642.571429  231.88     14            7            0.058   \n",
            "1                  638.375000  216.84     10            8            0.046   \n",
            "2                  504.888889  203.66     26            9            0.047   \n",
            "3                  530.833333  237.66     17            6            0.047   \n",
            "4                  420.125000  195.90     30            8            0.047   \n",
            "\n",
            "   Cost per conversion  Sale_Amount     Ad_Date   Location   Device  \\\n",
            "0            33.125714       1892.0  2024-11-16  hyderabad  desktop   \n",
            "1            27.105000       1679.0  2024-11-20  hyderabad   mobile   \n",
            "2            22.628889       1624.0  2024-11-16  hyderabad  desktop   \n",
            "3            39.610000       1225.0  2024-11-26  hyderabad   tablet   \n",
            "4            24.487500       1091.0  2024-11-22  hyderabad  desktop   \n",
            "\n",
            "                  Keyword  \n",
            "0    learn data analytics  \n",
            "1   data analytics course  \n",
            "2   data analitics online  \n",
            "3  data anaytics training  \n",
            "4    online data analytic  \n",
            "\n",
            "=== Valores nulos por columna ===\n",
            "Ad_ID                         0\n",
            "Campaign_Name                 0\n",
            "Clicks                        0\n",
            "Impressions                   0\n",
            "Impressions per conversion    0\n",
            "Cost                          0\n",
            "Leads                         0\n",
            "Conversions                   0\n",
            "Conversion Rate               0\n",
            "Cost per conversion           0\n",
            "Sale_Amount                   0\n",
            "Ad_Date                       0\n",
            "Location                      0\n",
            "Device                        0\n",
            "Keyword                       0\n",
            "dtype: int64\n"
          ]
        }
      ],
      "source": [
        "import pandas as pd\n",
        "\n",
        "# Cargar el dataset limpio (ya preparado en Parte ipos de datos y valores nulos\n",
        "df = df_googleads_clean = pd.read_csv(\"https://raw.githubusercontent.com/melilucmel/proyecto-google-ads/refs/heads/main/GoogleAds_Clean.csv\")\n",
        "\n",
        "print(\"=== Info general ===\")\n",
        "print(df.info())\n",
        "\n",
        "print(\"\\n=== Primeras filas ===\")\n",
        "print(df.head())\n",
        "\n",
        "print(\"\\n=== Valores nulos por columna ===\")\n",
        "print(df.isnull().sum())"
      ]
    },
    {
      "cell_type": "markdown",
      "source": [
        "## 2) Definición de target y features (X e y)"
      ],
      "metadata": {
        "id": "zSeL5GXjeFIM"
      }
    },
    {
      "cell_type": "code",
      "source": [
        "# Defino Target\n",
        "TARGET = \"Sale_Amount\"\n",
        "\n",
        "# Seleccionamos columnas relevantes (ajustaremos después con Feature Selection)\n",
        "features_iniciales = [\n",
        "    \"Cost\", \"Clicks\", \"Impressions\", \"Leads\", \"Conversions\", \"Device\"\n",
        "]\n",
        "\n",
        "X = df[features_iniciales]\n",
        "y = df[TARGET]\n",
        "\n",
        "print(\"Dimensiones de X:\", X.shape)\n",
        "print(\"Dimensiones de y:\", y.shape)"
      ],
      "metadata": {
        "colab": {
          "base_uri": "https://localhost:8080/"
        },
        "id": "clIB6bphclpI",
        "outputId": "2423da18-7adb-40ee-d954-91e9b4e4fecb"
      },
      "execution_count": 3,
      "outputs": [
        {
          "output_type": "stream",
          "name": "stdout",
          "text": [
            "Dimensiones de X: (2075, 6)\n",
            "Dimensiones de y: (2075,)\n"
          ]
        }
      ]
    },
    {
      "cell_type": "markdown",
      "source": [
        "## 3) Feature Selection"
      ],
      "metadata": {
        "id": "eukGSO__eQqr"
      }
    },
    {
      "cell_type": "markdown",
      "source": [
        "### 3.a) Correlación con el target"
      ],
      "metadata": {
        "id": "naHzUXdoelSy"
      }
    },
    {
      "cell_type": "code",
      "source": [
        "import seaborn as sns\n",
        "import matplotlib.pyplot as plt\n",
        "\n",
        "# Seleccionamos solo columnas numéricas\n",
        "num_cols = df.select_dtypes(include=[\"float64\", \"int64\", \"Int64\"]).columns.tolist()\n",
        "\n",
        "# Matriz de correlación\n",
        "corr = df[num_cols].corr()\n",
        "\n",
        "# Correlación de cada variable con el target Sale_Amount\n",
        "corr_target = corr[\"Sale_Amount\"].sort_values(ascending=False)\n",
        "\n",
        "print(\"=== Correlación con Sale_Amount ===\")\n",
        "print(corr_target)\n",
        "\n",
        "# Gráfico de calor (top variables)\n",
        "plt.figure(figsize=(8,6))\n",
        "sns.heatmap(corr_target.to_frame(), annot=True, cmap=\"coolwarm\", cbar=False)\n",
        "plt.title(\"Correlación de variables numéricas con Sale_Amount\")\n",
        "plt.show()"
      ],
      "metadata": {
        "colab": {
          "base_uri": "https://localhost:8080/",
          "height": 0
        },
        "id": "NFczkWaucriX",
        "outputId": "22f21e81-4878-45fa-c320-28700e5877d7"
      },
      "execution_count": 4,
      "outputs": [
        {
          "output_type": "stream",
          "name": "stdout",
          "text": [
            "=== Correlación con Sale_Amount ===\n",
            "Sale_Amount                   1.000000\n",
            "Clicks                        0.037701\n",
            "Cost per conversion           0.015910\n",
            "Impressions                   0.010249\n",
            "Impressions per conversion    0.010052\n",
            "Leads                         0.007158\n",
            "Cost                          0.007085\n",
            "Conversions                  -0.017356\n",
            "Conversion Rate              -0.051156\n",
            "Name: Sale_Amount, dtype: float64\n"
          ]
        },
        {
          "output_type": "display_data",
          "data": {
            "text/plain": [
              "<Figure size 800x600 with 1 Axes>"
            ],
            "image/png": "[encoded data removed]"
          },
          "metadata": {}
        }
      ]
    },
    {
      "cell_type": "markdown",
      "source": [
        "### 3.b) Importancia de variables con RandomForest"
      ],
      "metadata": {
        "id": "-NJX9mgpehd1"
      }
    },
    {
      "cell_type": "code",
      "source": [
        "from sklearn.model_selection import train_test_split\n",
        "from sklearn.ensemble import RandomForestRegressor\n",
        "from sklearn.preprocessing import OneHotEncoder\n",
        "from sklearn.compose import ColumnTransformer\n",
        "from sklearn.pipeline import Pipeline\n",
        "from sklearn.impute import SimpleImputer\n",
        "import pandas as pd\n",
        "\n",
        "# Features: numéricas y categóricas\n",
        "num_cols = [\"Cost\", \"Clicks\", \"Impressions\", \"Leads\", \"Conversions\"]\n",
        "cat_cols = [\"Device\"]\n",
        "\n",
        "# Separar X e y (quitando filas sin target)\n",
        "X = df[num_cols + cat_cols]\n",
        "y = df[\"Sale_Amount\"]\n",
        "\n",
        "# Train/test split\n",
        "X_train, X_test, y_train, y_test = train_test_split(\n",
        "    X, y, test_size=0.2, random_state=42\n",
        ")\n",
        "\n",
        "# Preprocesamiento: imputar medianas en numéricas + OneHot en categóricas\n",
        "preprocessor = ColumnTransformer(\n",
        "    transformers=[\n",
        "        (\"num\", SimpleImputer(strategy=\"median\"), num_cols),\n",
        "        (\"cat\", OneHotEncoder(handle_unknown=\"ignore\"), cat_cols)\n",
        "    ]\n",
        ")\n",
        "\n",
        "# Modelo\n",
        "rf = RandomForestRegressor(n_estimators=200, random_state=42)\n",
        "\n",
        "# Pipeline\n",
        "pipe = Pipeline(steps=[(\"preprocessor\", preprocessor),\n",
        "                       (\"model\", rf)])\n",
        "\n",
        "pipe.fit(X_train, y_train)\n",
        "\n",
        "# Importancia de variables\n",
        "feature_names = num_cols + list(pipe.named_steps[\"preprocessor\"].transformers_[1][1].get_feature_names_out(cat_cols))\n",
        "importances = pd.Series(pipe.named_steps[\"model\"].feature_importances_, index=feature_names).sort_values(ascending=False)\n",
        "\n",
        "print(\"=== Importancia de variables (RandomForest) ===\")\n",
        "print(importances)\n",
        "\n",
        "# Gráfico\n",
        "plt.figure(figsize=(8,6))\n",
        "importances.head(10).sort_values().plot(kind=\"barh\")\n",
        "plt.title(\"Top 10 variables más importantes\")\n",
        "plt.show()"
      ],
      "metadata": {
        "colab": {
          "base_uri": "https://localhost:8080/",
          "height": 0
        },
        "id": "_DPBhLjsczNd",
        "outputId": "cefe4c30-077a-49d3-94ef-27e8ec05fa92"
      },
      "execution_count": 5,
      "outputs": [
        {
          "output_type": "stream",
          "name": "stdout",
          "text": [
            "=== Importancia de variables (RandomForest) ===\n",
            "Impressions       0.250502\n",
            "Cost              0.248669\n",
            "Clicks            0.204508\n",
            "Leads             0.141109\n",
            "Conversions       0.094713\n",
            "Device_desktop    0.021599\n",
            "Device_tablet     0.020777\n",
            "Device_mobile     0.018123\n",
            "dtype: float64\n"
          ]
        },
        {
          "output_type": "display_data",
          "data": {
            "text/plain": [
              "<Figure size 800x600 with 1 Axes>"
            ],
            "image/png": "[encoded data removed]"
          },
          "metadata": {}
        }
      ]
    },
    {
      "cell_type": "markdown",
      "source": [
        "## 4) Modelado y evaluación de modelos"
      ],
      "metadata": {
        "id": "_MSUopzGexYe"
      }
    },
    {
      "cell_type": "code",
      "source": [
        "from sklearn.model_selection import train_test_split\n",
        "\n",
        "# Variables más relevantes según RandomForest\n",
        "features_finales = [\"Impressions\", \"Cost\", \"Clicks\", \"Leads\", \"Conversions\"]\n",
        "\n",
        "X = df[features_finales]\n",
        "y = df[\"Sale_Amount\"]\n",
        "\n",
        "# División en train (80%) y test (20%)\n",
        "X_train, X_test, y_train, y_test = train_test_split(\n",
        "    X, y, test_size=0.2, random_state=42\n",
        ")\n",
        "\n",
        "print(\"Dimensiones X_train:\", X_train.shape)\n",
        "print(\"Dimensiones X_test:\", X_test.shape)"
      ],
      "metadata": {
        "colab": {
          "base_uri": "https://localhost:8080/"
        },
        "id": "MK_F1P1Hc2s-",
        "outputId": "e0fb5cad-0242-4887-9cef-6b92810b5973"
      },
      "execution_count": 6,
      "outputs": [
        {
          "output_type": "stream",
          "name": "stdout",
          "text": [
            "Dimensiones X_train: (1660, 5)\n",
            "Dimensiones X_test: (415, 5)\n"
          ]
        }
      ]
    },
    {
      "cell_type": "markdown",
      "source": [
        "### 4.a) Preparación de datos (X, y, train/test)"
      ],
      "metadata": {
        "id": "XwQt92PBe8Cq"
      }
    },
    {
      "cell_type": "code",
      "source": [
        "from sklearn.metrics import mean_squared_error, mean_absolute_error, r2_score\n",
        "import numpy as np\n",
        "\n",
        "def evaluar_modelo(nombre, y_true, y_pred):\n",
        "    r2 = r2_score(y_true, y_pred)\n",
        "    rmse = np.sqrt(mean_squared_error(y_true, y_pred))\n",
        "    mae = mean_absolute_error(y_true, y_pred)\n",
        "    print(f\"=== {nombre} ===\")\n",
        "    print(f\"R²:   {r2:.4f}\")\n",
        "    print(f\"RMSE: {rmse:.2f}\")\n",
        "    print(f\"MAE:  {mae:.2f}\\n\")\n",
        "    return {\"Modelo\": nombre, \"R²\": r2, \"RMSE\": rmse, \"MAE\": mae}"
      ],
      "metadata": {
        "id": "keYz0YI4c-KG"
      },
      "execution_count": 7,
      "outputs": []
    },
    {
      "cell_type": "markdown",
      "source": [
        "### 4.c) Definición de función de evaluación (métricas)"
      ],
      "metadata": {
        "id": "2vBBuLhEfFUv"
      }
    },
    {
      "cell_type": "code",
      "source": [
        "from sklearn.dummy import DummyRegressor\n",
        "\n",
        "dummy = DummyRegressor(strategy=\"mean\")\n",
        "dummy.fit(X_train, y_train)\n",
        "y_pred_dummy = dummy.predict(X_test)\n",
        "\n",
        "res_dummy = evaluar_modelo(\"Dummy\", y_test, y_pred_dummy)"
      ],
      "metadata": {
        "colab": {
          "base_uri": "https://localhost:8080/"
        },
        "id": "_PvTElPbdDPU",
        "outputId": "71f80d8d-bb14-4c95-ef77-ddc6a4f08c1d"
      },
      "execution_count": 8,
      "outputs": [
        {
          "output_type": "stream",
          "name": "stdout",
          "text": [
            "=== Dummy ===\n",
            "R²:   -0.0006\n",
            "RMSE: 285.06\n",
            "MAE:  240.46\n",
            "\n"
          ]
        }
      ]
    },
    {
      "cell_type": "markdown",
      "source": [
        "### 4.c) Entrenar y evaluar los tres modelos"
      ],
      "metadata": {
        "id": "IJq6StPlfKCB"
      }
    },
    {
      "cell_type": "code",
      "source": [
        "\n",
        "# Dummy Regressor (baseline)\n",
        "\n",
        "from sklearn.linear_model import LinearRegression\n",
        "\n",
        "linreg = LinearRegression()\n",
        "linreg.fit(X_train, y_train)\n",
        "y_pred_lin = linreg.predict(X_test)\n",
        "\n",
        "res_lin = evaluar_modelo(\"Linear Regression\", y_test, y_pred_lin)"
      ],
      "metadata": {
        "colab": {
          "base_uri": "https://localhost:8080/"
        },
        "id": "Zq_GMSVgdEfp",
        "outputId": "b95d794b-bede-4286-ebe7-42f302e60320"
      },
      "execution_count": 9,
      "outputs": [
        {
          "output_type": "stream",
          "name": "stdout",
          "text": [
            "=== Linear Regression ===\n",
            "R²:   -0.0006\n",
            "RMSE: 285.05\n",
            "MAE:  240.98\n",
            "\n"
          ]
        }
      ]
    },
    {
      "cell_type": "code",
      "source": [
        "# Linear Regression\n",
        "\n",
        "from sklearn.ensemble import RandomForestRegressor\n",
        "\n",
        "rf = RandomForestRegressor(n_estimators=200, random_state=42)\n",
        "rf.fit(X_train, y_train)\n",
        "y_pred_rf = rf.predict(X_test)\n",
        "\n",
        "res_rf = evaluar_modelo(\"Random Forest\", y_test, y_pred_rf)"
      ],
      "metadata": {
        "colab": {
          "base_uri": "https://localhost:8080/"
        },
        "id": "YM1ae-pxdHs1",
        "outputId": "9171e046-2993-4ef3-948f-f6d7c4c0e686"
      },
      "execution_count": 10,
      "outputs": [
        {
          "output_type": "stream",
          "name": "stdout",
          "text": [
            "=== Random Forest ===\n",
            "R²:   -0.0132\n",
            "RMSE: 286.84\n",
            "MAE:  241.62\n",
            "\n"
          ]
        }
      ]
    },
    {
      "cell_type": "code",
      "source": [
        "# RandomForest Regressor\n",
        "\n",
        "import pandas as pd\n",
        "\n",
        "# Guardamos todas las métricas en un DataFrame\n",
        "resultados = pd.DataFrame([res_dummy, res_lin, res_rf])\n",
        "print(resultados)"
      ],
      "metadata": {
        "colab": {
          "base_uri": "https://localhost:8080/"
        },
        "id": "T4ephmx0dNBI",
        "outputId": "6b3f3b48-f13f-4083-a2b7-9cb296ee633f"
      },
      "execution_count": 11,
      "outputs": [
        {
          "output_type": "stream",
          "name": "stdout",
          "text": [
            "              Modelo        R²        RMSE         MAE\n",
            "0              Dummy -0.000649  285.057568  240.461163\n",
            "1  Linear Regression -0.000623  285.053986  240.981305\n",
            "2      Random Forest -0.013170  286.835535  241.619133\n"
          ]
        }
      ]
    },
    {
      "cell_type": "markdown",
      "source": [
        "## 4.d) Comparación de resultados"
      ],
      "metadata": {
        "id": "xRvyhskpftG4"
      }
    },
    {
      "cell_type": "code",
      "source": [
        "import pandas as pd\n",
        "\n",
        "# Guardamos todas las métricas en un DataFrame\n",
        "resultados = pd.DataFrame([res_dummy, res_lin, res_rf])\n",
        "print(resultados)"
      ],
      "metadata": {
        "colab": {
          "base_uri": "https://localhost:8080/"
        },
        "id": "HU0HYJyZf2dB",
        "outputId": "9c764724-de3b-4621-997b-dbf075fc4b4c"
      },
      "execution_count": 12,
      "outputs": [
        {
          "output_type": "stream",
          "name": "stdout",
          "text": [
            "              Modelo        R²        RMSE         MAE\n",
            "0              Dummy -0.000649  285.057568  240.461163\n",
            "1  Linear Regression -0.000623  285.053986  240.981305\n",
            "2      Random Forest -0.013170  286.835535  241.619133\n"
          ]
        }
      ]
    },
    {
      "cell_type": "markdown",
      "source": [
        "#### 4.e) Control con gráficos"
      ],
      "metadata": {
        "id": "z7qfyDDhuNAv"
      }
    },
    {
      "cell_type": "code",
      "source": [
        "df[\"Sale_Amount\"].hist(bins=20)\n",
        "plt.title(\"Distribución de Sale_Amount\")\n",
        "plt.show()"
      ],
      "metadata": {
        "colab": {
          "base_uri": "https://localhost:8080/",
          "height": 220
        },
        "id": "YyhFi9Ppf9HO",
        "outputId": "35a15845-32be-492e-d546-33d2576b8eba"
      },
      "execution_count": 13,
      "outputs": [
        {
          "output_type": "display_data",
          "data": {
            "text/plain": [
              "<Figure size 640x480 with 1 Axes>"
            ],
            "image/png": "[encoded data removed]"
          },
          "metadata": {}
        }
      ]
    },
    {
      "cell_type": "markdown",
      "source": [
        "**Conclusión:** El gráfico muestra:\n",
        "\n",
        "1. Rango limitado → Los valores de Sale_Amount se concentran entre 1000 y 2000, no hay grandes diferencias en las ventas (presumo que por ser un dataset \"sintético\").\n",
        "\n",
        "2. Pico en torno a 1500 → Hay un pico fuerte en la zona de ~1500, lo que indica muchos registros de valores muy similares. Por esto la variable está algo \"planchada\".\n",
        "\n",
        "\n",
        "3. Distribución casi uniforme con una anomalía → Excepto por ese pico, la distribución es relativamente plana, sin grandes concentraciones en valores extremos."
      ],
      "metadata": {
        "id": "3wb4EGtkuQuh"
      }
    },
    {
      "cell_type": "markdown",
      "source": [
        "**Decisión**: Los algoritmos de regresión y RandomForest no lograron superar al modelo de referencia (Dummy), las variables originales (Cost, Clicks, Impressions, etc.) no eran suficientes para explicar la variabilidad de Sale_Amount.\n",
        "\n",
        "En marketing digital, es común trabajar con métricas derivadas, por eso, probaremos las siguientes:\n",
        "\n",
        "- CTR (Click-Through Rate): mide la proporción de clics respecto a impresiones, reflejando la efectividad de los anuncios.\n",
        "\n",
        "- CPC (Cost per Click): indica el costo promedio de cada clic, útil para evaluar la rentabilidad.\n",
        "\n",
        "- ROI (Return on Investment): compara el monto de ventas generado con el costo invertido, señal directa de rentabilidad.\n",
        "\n",
        "\n",
        "El objetivo será verificar si, al incluirlas como features, se logra una mejor capacidad predictiva sobre Sale_Amount."
      ],
      "metadata": {
        "id": "oRBnOGKHtHBN"
      }
    },
    {
      "cell_type": "markdown",
      "source": [
        "## 5) Generación de nuevas features derivadas"
      ],
      "metadata": {
        "id": "j5Ff3oDHvmnw"
      }
    },
    {
      "cell_type": "markdown",
      "source": [
        "### 5.a) Creación de nuevas features"
      ],
      "metadata": {
        "id": "eDwGvYwO1ZXS"
      }
    },
    {
      "cell_type": "code",
      "source": [
        "# Creamos nuevas features\n",
        "df[\"CTR\"] = df[\"Clicks\"] / df[\"Impressions\"]       # Click Through Rate\n",
        "df[\"CPC\"] = df[\"Cost\"] / df[\"Clicks\"]              # Cost per Click\n",
        "df[\"ROI\"] = df[\"Sale_Amount\"] / df[\"Cost\"]         # Return on Investment\n",
        "\n",
        "# Reemplazar infinitos y NaN con 0 (por divisiones entre 0)\n",
        "df[[\"CTR\", \"CPC\", \"ROI\"]] = df[[\"CTR\", \"CPC\", \"ROI\"]].replace([np.inf, -np.inf], np.nan).fillna(0)\n",
        "\n",
        "# Control rápido\n",
        "print(df[[\"Clicks\", \"Impressions\", \"Cost\", \"Sale_Amount\", \"CTR\", \"CPC\", \"ROI\"]].head())"
      ],
      "metadata": {
        "id": "VzWhhPoKyJ92",
        "outputId": "6a142579-9bfb-47e9-d3c6-9816b4ce48bc",
        "colab": {
          "base_uri": "https://localhost:8080/"
        }
      },
      "execution_count": 15,
      "outputs": [
        {
          "output_type": "stream",
          "name": "stdout",
          "text": [
            "   Clicks  Impressions    Cost  Sale_Amount       CTR       CPC       ROI\n",
            "0     104         4498  231.88       1892.0  0.023121  2.229615  8.159393\n",
            "1     173         5107  216.84       1679.0  0.033875  1.253410  7.743036\n",
            "2      90         4544  203.66       1624.0  0.019806  2.262889  7.974074\n",
            "3     142         3185  237.66       1225.0  0.044584  1.673662  5.154422\n",
            "4     156         3361  195.90       1091.0  0.046415  1.255769  5.569168\n"
          ]
        }
      ]
    },
    {
      "cell_type": "markdown",
      "source": [
        "### 5.b) Separación de features (X) y target (y)"
      ],
      "metadata": {
        "id": "iQ5fvR341ggb"
      }
    },
    {
      "cell_type": "code",
      "source": [
        "# Redefinimos variables predictoras (con las nuevas features)\n",
        "X = df[[\"Clicks\", \"Impressions\", \"Cost\", \"Leads\", \"Conversions\", \"CTR\", \"CPC\", \"ROI\"]]\n",
        "\n",
        "# Variable objetivo\n",
        "y = df[\"Sale_Amount\"]\n",
        "\n",
        "# Dividir en train y test\n",
        "from sklearn.model_selection import train_test_split\n",
        "\n",
        "X_train, X_test, y_train, y_test = train_test_split(\n",
        "    X, y, test_size=0.2, random_state=42\n",
        ")"
      ],
      "metadata": {
        "id": "pHQrC60GyQQ4"
      },
      "execution_count": 16,
      "outputs": []
    },
    {
      "cell_type": "markdown",
      "source": [
        "### 5.c) Definición de función de evaluación (igual a clase)"
      ],
      "metadata": {
        "id": "0IS2DRbZ1u_D"
      }
    },
    {
      "cell_type": "code",
      "source": [
        "from sklearn.metrics import mean_squared_error, mean_absolute_error, r2_score\n",
        "import numpy as np\n",
        "\n",
        "def evaluar_modelo(nombre, modelo, X_train, X_test, y_train, y_test):\n",
        "    modelo.fit(X_train, y_train)\n",
        "    y_pred = modelo.predict(X_test)\n",
        "\n",
        "    r2 = r2_score(y_test, y_pred)\n",
        "    rmse = np.sqrt(mean_squared_error(y_test, y_pred))\n",
        "    mae = mean_absolute_error(y_test, y_pred)\n",
        "\n",
        "    print(f\"=== {nombre} ===\")\n",
        "    print(f\"R²:   {r2:.4f}\")\n",
        "    print(f\"RMSE: {rmse:.2f}\")\n",
        "    print(f\"MAE:  {mae:.2f}\\n\")\n",
        "\n",
        "    return {\"Modelo\": nombre, \"R²\": r2, \"RMSE\": rmse, \"MAE\": mae}"
      ],
      "metadata": {
        "id": "XXUmvNXoyZrb"
      },
      "execution_count": 17,
      "outputs": []
    },
    {
      "cell_type": "markdown",
      "source": [
        "### 5.d) Entrenamiento y Evaluación de modelos"
      ],
      "metadata": {
        "id": "Nt_pTcs72GgL"
      }
    },
    {
      "cell_type": "code",
      "source": [
        "from sklearn.dummy import DummyRegressor\n",
        "from sklearn.linear_model import LinearRegression\n",
        "from sklearn.ensemble import RandomForestRegressor\n",
        "import pandas as pd\n",
        "\n",
        "# Lista de modelos\n",
        "modelos = [\n",
        "    (\"Dummy\", DummyRegressor(strategy=\"mean\")),\n",
        "    (\"Linear Regression\", LinearRegression()),\n",
        "    (\"Random Forest\", RandomForestRegressor(random_state=42, n_estimators=100))\n",
        "]\n",
        "\n",
        "# Evaluar cada modelo\n",
        "resultados = []\n",
        "for nombre, modelo in modelos:\n",
        "    res = evaluar_modelo(nombre, modelo, X_train, X_test, y_train, y_test)\n",
        "    resultados.append(res)\n",
        "\n",
        "# Mostrar en tabla\n",
        "df_resultados = pd.DataFrame(resultados)\n",
        "print(df_resultados)"
      ],
      "metadata": {
        "id": "sziaoJfxyex1",
        "outputId": "46b0b3ff-017f-47d9-86b5-5c97020ee436",
        "colab": {
          "base_uri": "https://localhost:8080/"
        }
      },
      "execution_count": 18,
      "outputs": [
        {
          "output_type": "stream",
          "name": "stdout",
          "text": [
            "=== Dummy ===\n",
            "R²:   -0.0006\n",
            "RMSE: 285.06\n",
            "MAE:  240.46\n",
            "\n",
            "=== Linear Regression ===\n",
            "R²:   0.9898\n",
            "RMSE: 28.78\n",
            "MAE:  22.22\n",
            "\n",
            "=== Random Forest ===\n",
            "R²:   0.9983\n",
            "RMSE: 11.84\n",
            "MAE:  8.34\n",
            "\n",
            "              Modelo        R²        RMSE         MAE\n",
            "0              Dummy -0.000649  285.057568  240.461163\n",
            "1  Linear Regression  0.989798   28.782512   22.224133\n",
            "2      Random Forest  0.998274   11.839354    8.337831\n"
          ]
        }
      ]
    },
    {
      "cell_type": "markdown",
      "source": [
        "**Observación:** Los modelos con las variables nuevas (CTR, CPC, ROI) mejoraron grandemente los resultados.\n",
        "Random Forest arroja un R² de 0.998, confirmando que las nuevas features aportan información útil para predecir el monto de ventas (Sale_Amount)."
      ],
      "metadata": {
        "id": "9lEEsDPnzSdo"
      }
    },
    {
      "cell_type": "markdown",
      "source": [
        "### 5.e) Control con gráficos"
      ],
      "metadata": {
        "id": "A5qpGo532Yca"
      }
    },
    {
      "cell_type": "code",
      "source": [
        "import matplotlib.pyplot as plt\n",
        "\n",
        "# === Resultados finales (ya los tienes en df_resultados) ===\n",
        "df_resultados_plot = df_resultados.copy()\n",
        "\n",
        "# Gráfico de barras para R²\n",
        "plt.figure(figsize=(8,5))\n",
        "plt.bar(df_resultados_plot[\"Modelo\"], df_resultados_plot[\"R²\"], color=[\"gray\", \"blue\", \"green\"])\n",
        "plt.title(\"Desempeño de Modelos (con nuevas features)\", fontsize=14)\n",
        "plt.ylabel(\"R²\")\n",
        "plt.ylim(-0.1, 1.05)\n",
        "plt.show()\n",
        "\n",
        "# Gráfico de barras para RMSE y MAE\n",
        "df_resultados_plot.set_index(\"Modelo\")[[\"RMSE\", \"MAE\"]].plot(\n",
        "    kind=\"bar\", figsize=(8,5), color=[\"orange\", \"red\"])\n",
        "plt.title(\"Errores de Modelos (con nuevas features)\", fontsize=14)\n",
        "plt.ylabel(\"Error\")\n",
        "plt.show()"
      ],
      "metadata": {
        "id": "c7h0QVht1Hpj",
        "outputId": "e8aff6ca-f101-4dbe-89e6-174ab34d810b",
        "colab": {
          "base_uri": "https://localhost:8080/",
          "height": 400
        }
      },
      "execution_count": 19,
      "outputs": [
        {
          "output_type": "display_data",
          "data": {
            "text/plain": [
              "<Figure size 800x500 with 1 Axes>"
            ],
            "image/png": "[encoded data removed]"
          },
          "metadata": {}
        },
        {
          "output_type": "display_data",
          "data": {
            "text/plain": [
              "<Figure size 800x500 with 1 Axes>"
            ],
            "image/png": "[encoded data removed]"
          },
          "metadata": {}
        }
      ]
    },
    {
      "cell_type": "markdown",
      "source": [
        "**Resultados:**\n",
        "\n",
        "- Dummy Regressor arroja R² con ≈ 0 y errores muy altos, ya que solo predice el promedio.\n",
        "\n",
        "- Regresión Lineal mejora enormemente, el R² arroja ~0.99, reduciendo los errores a valores bajos en comparación con el rango de ventas.\n",
        "\n",
        "- Random Forest mejor resultado, con un R² ≈ 0.998 y errores mínimos, e indica gran capacidad de capturar relaciones no lineales entre las variables.\n",
        "\n",
        "\n",
        "Entonces, las nuevas métricas derivadas (CTR, CPC, ROI) fueron útiles para aportar información al modelo y mejorar la predicción del monto de ventas (Sale_Amount)."
      ],
      "metadata": {
        "id": "vynm765S3Ggs"
      }
    },
    {
      "cell_type": "markdown",
      "source": [
        "## 6) Validación de Hipótesis"
      ],
      "metadata": {
        "id": "t8d7PCvk8b0d"
      }
    },
    {
      "cell_type": "markdown",
      "source": [
        "En este proyecto se buscó predecir el monto de ventas (Sale_Amount) en campañas de Google Ads a partir de distintas variables de marketing digital.\n",
        "\n",
        "Tras entrenar los primeros modelos con las variables originales (Clicks, Impressions, Cost, Conversions, Leads), los resultados confirmaron la H0, ya que ni la regresión lineal ni el Random Forest superaron al Dummy en términos de R² y error.\n",
        "\n",
        "Posteriormente, al enriquecer el dataset con variables derivadas clave para el marketing digital (CTR, CPC y ROI), los modelos mejoraron de manera drástica, validando así la H1 en esta nueva etapa.\n",
        "\n",
        "La Regresión Lineal alcanzó un R² de ≈ 0.99.\n",
        "\n",
        "El Random Forest logró un desempeño casi perfecto, con R² de ≈ 0.998 y errores mínimos.\n",
        "\n",
        "\n",
        "En conclusión, el análisis demuestra que la creación de métricas derivadas fue esencial para capturar la señal del negocio y construir modelos predictivos robustos. Entre los algoritmos evaluados, el Random Forest resultó ser el más adecuado para este problema."
      ],
      "metadata": {
        "id": "8Y80S50L8inH"
      }
    },
    {
      "cell_type": "markdown",
      "source": [
        "## 6) Conclusión"
      ],
      "metadata": {
        "id": "PkEXO2l5323B"
      }
    },
    {
      "cell_type": "markdown",
      "source": [
        "\n",
        "En este proyecto se trabajó con un dataset de campañas de Google Ads con el **objetivo de predecir el monto de ventas (Sale_Amount) en función de diferentes variables de marketing digital**.\n",
        "\n",
        "El proceso siguió las etapas vistas en el curso:\n",
        "\n",
        "----- PRIMERA PARTE DEL PROYECTO (primer entrega) -----\n",
        "1. **Limpieza y preparación de datos**, donde se corrigieron fechas, valores monetarios, conversiones y valores faltantes.\n",
        "\n",
        "\n",
        "2. **Exploración inicial (EDA)**, en la que se detectó baja correlación directa entre las variables originales y la variable objetivo.\n",
        "\n",
        "\n",
        "----- SEGUNDA PARTE DEL PROYECTO (segunda y presente entrega) -----\n",
        "\n",
        "3. **Selección y creación de features**, incorporando métricas de marketing clave como CTR (Click Through Rate), CPC (Costo por Click) y ROI (Retorno de Inversión).\n",
        "\n",
        "\n",
        "4. **Entrenamiento de modelos**: se probaron un modelo base (Dummy), una Regresión Lineal y un Random Forest.\n",
        "\n",
        "\n",
        "5. **Evaluación de métricas** (R², RMSE y MAE) para comparar el desempeño.\n",
        "\n",
        "\n",
        "**Los resultados mostraron que:**\n",
        "\n",
        "- El **modelo Dummy confirmó el punto de partida**, con R² ≈ 0 y errores elevados (RMSE ≈ 285).\n",
        "\n",
        "- La **Regresión Lineal logró un ajuste muy bueno, con R² ≈ 0.99, reduciendo el error** de manera considerable (RMSE ≈ 28.78, MAE ≈ 22.22).\n",
        "\n",
        "- El **Random Forest ofreció el mejor desempeño**, con R² ≈ 0.998 y errores mínimos (RMSE ≈ 11.84, MAE ≈ 8.34).\n",
        "\n",
        "\n",
        "En conclusión, el experimento confirma que:\n",
        "\n",
        "1) La reconsideración de las variables fue clave para obtener un modelo predictivo más acorde.\n",
        "\n",
        "2) Entre los modelos evaluados, Random Forest resultó ser el más adecuado para este problema al capturar mejor las relaciones no lineales entre las variables."
      ],
      "metadata": {
        "id": "bqAMomWa5ALl"
      }
    },
    {
      "cell_type": "markdown",
      "source": [
        "## 7) Líneas Futuras\n",
        "\n",
        "Como posibles pasos a futuro, se podría:\n",
        "\n",
        "1) Probar más algoritmos de regresión (XGBoost, Gradient Boosting).\n",
        "\n",
        "2) Ajustar hiperparámetros de Random Forest para validar su estabilidad.\n",
        "\n",
        "3) Explorar técnicas de validación cruzada para mayor robustez de los resultados."
      ],
      "metadata": {
        "id": "X8ymjrwA6C9f"
      }
    }
  ]
}